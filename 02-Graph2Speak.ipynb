{
 "cells": [
  {
   "cell_type": "markdown",
   "metadata": {},
   "source": [
    "<center><h1 style=\"font-size:3em\"> Graph2Speak </h1></center>\n",
    "<center><h3> Improving Speaker Identification using Network Knowledge in Criminal Conversational Data </h3><center>"
   ]
  },
  {
   "cell_type": "markdown",
   "metadata": {},
   "source": [
    "Paper: https://arxiv.org/abs/2006.02093\n",
    "\n",
    "*Maël Fabien, Seyyed Saeed Sarfjoo, Petr Motlicek, Srikanth Madikeri*"
   ]
  },
  {
   "cell_type": "code",
   "execution_count": 3,
   "metadata": {},
   "outputs": [],
   "source": [
    "# General\n",
    "import numpy as np\n",
    "import pandas as pd\n",
    "import matplotlib.pyplot as plt\n",
    "\n",
    "# Set of functions\n",
    "from src.utils import *"
   ]
  },
  {
   "cell_type": "code",
   "execution_count": 4,
   "metadata": {},
   "outputs": [],
   "source": [
    "episode = \"s01e23\""
   ]
  },
  {
   "cell_type": "code",
   "execution_count": 5,
   "metadata": {
    "scrolled": true
   },
   "outputs": [
    {
     "data": {
      "text/plain": [
       "({'maleshopper': '1001_csi',\n",
       "  'bradwalden': '1002_csi',\n",
       "  'hunterbaumgartner': '1003_csi',\n",
       "  'gregsanders': '1004_csi',\n",
       "  'brass': '1005_csi',\n",
       "  'sydgoggle': '1006_csi',\n",
       "  'dralbertrobbins': '1007_csi',\n",
       "  'sheriffbrianmobley': '1008_csi',\n",
       "  'warrick': '1009_csi',\n",
       "  'nick': '1010_csi',\n",
       "  'sara': '1011_csi',\n",
       "  'catherine': '1012_csi',\n",
       "  'agentrickculpepper': '1013_csi',\n",
       "  'grissom': '1014_csi'},\n",
       " {'1001_csi': 'maleshopper',\n",
       "  '1002_csi': 'bradwalden',\n",
       "  '1003_csi': 'hunterbaumgartner',\n",
       "  '1004_csi': 'gregsanders',\n",
       "  '1005_csi': 'brass',\n",
       "  '1006_csi': 'sydgoggle',\n",
       "  '1007_csi': 'dralbertrobbins',\n",
       "  '1008_csi': 'sheriffbrianmobley',\n",
       "  '1009_csi': 'warrick',\n",
       "  '1010_csi': 'nick',\n",
       "  '1011_csi': 'sara',\n",
       "  '1012_csi': 'catherine',\n",
       "  '1013_csi': 'agentrickculpepper',\n",
       "  '1014_csi': 'grissom'},\n",
       " {'maleshopper': [50, 50],\n",
       "  'bradwalden': [50, 100],\n",
       "  'hunterbaumgartner': [50, 150],\n",
       "  'gregsanders': [100, 50],\n",
       "  'brass': [100, 100],\n",
       "  'sydgoggle': [100, 150],\n",
       "  'dralbertrobbins': [150, 50],\n",
       "  'sheriffbrianmobley': [150, 100],\n",
       "  'warrick': [150, 150],\n",
       "  'nick': [200, 50],\n",
       "  'sara': [200, 100],\n",
       "  'catherine': [200, 150],\n",
       "  'agentrickculpepper': [300, 50],\n",
       "  'grissom': [300, 100]})"
      ]
     },
     "execution_count": 5,
     "metadata": {},
     "output_type": "execute_result"
    }
   ],
   "source": [
    "dict_spk, spk_dict, spk_coord = ep_dicts(episode)\n",
    "dict_spk, spk_dict, spk_coord"
   ]
  },
  {
   "cell_type": "markdown",
   "metadata": {},
   "source": [
    "# I. Ground truth"
   ]
  },
  {
   "cell_type": "code",
   "execution_count": 6,
   "metadata": {},
   "outputs": [
    {
     "data": {
      "text/html": [
       "<div>\n",
       "<style scoped>\n",
       "    .dataframe tbody tr th:only-of-type {\n",
       "        vertical-align: middle;\n",
       "    }\n",
       "\n",
       "    .dataframe tbody tr th {\n",
       "        vertical-align: top;\n",
       "    }\n",
       "\n",
       "    .dataframe thead th {\n",
       "        text-align: right;\n",
       "    }\n",
       "</style>\n",
       "<table border=\"1\" class=\"dataframe\">\n",
       "  <thead>\n",
       "    <tr style=\"text-align: right;\">\n",
       "      <th></th>\n",
       "      <th>speaker</th>\n",
       "      <th>conv</th>\n",
       "    </tr>\n",
       "  </thead>\n",
       "  <tbody>\n",
       "    <tr>\n",
       "      <th>0</th>\n",
       "      <td>brass</td>\n",
       "      <td>1.0</td>\n",
       "    </tr>\n",
       "    <tr>\n",
       "      <th>17</th>\n",
       "      <td>grissom</td>\n",
       "      <td>1.0</td>\n",
       "    </tr>\n",
       "    <tr>\n",
       "      <th>120</th>\n",
       "      <td>sara</td>\n",
       "      <td>2.0</td>\n",
       "    </tr>\n",
       "    <tr>\n",
       "      <th>122</th>\n",
       "      <td>brass</td>\n",
       "      <td>2.0</td>\n",
       "    </tr>\n",
       "    <tr>\n",
       "      <th>126</th>\n",
       "      <td>grissom</td>\n",
       "      <td>2.0</td>\n",
       "    </tr>\n",
       "  </tbody>\n",
       "</table>\n",
       "</div>"
      ],
      "text/plain": [
       "     speaker  conv\n",
       "0      brass   1.0\n",
       "17   grissom   1.0\n",
       "120     sara   2.0\n",
       "122    brass   2.0\n",
       "126  grissom   2.0"
      ]
     },
     "execution_count": 6,
     "metadata": {},
     "output_type": "execute_result"
    }
   ],
   "source": [
    "truth_events = pd.read_csv(\"src/graph_input/all_events_%s.csv\"%episode)\n",
    "truth_events = truth_events[['speaker', 'conv']].drop_duplicates().dropna()\n",
    "truth_events['speaker'] = truth_events['speaker'].apply(lambda x: x.replace(\"/\", \"\").replace(\".\", \"\").replace(\"'\", \"\"))\n",
    "truth_events.head()"
   ]
  },
  {
   "cell_type": "code",
   "execution_count": 7,
   "metadata": {},
   "outputs": [],
   "source": [
    "f = open(\"src/speaker_id_input/%s.txt\"%episode, \"r\")\n",
    "list_spk_keep = []\n",
    "\n",
    "for line in f:\n",
    "    list_spk_keep.append(line.replace(\"\\n\", \"\").replace(\".\", \"\").replace(\"'\", \"\"))"
   ]
  },
  {
   "cell_type": "code",
   "execution_count": 8,
   "metadata": {},
   "outputs": [],
   "source": [
    "truth_events = truth_events[truth_events['speaker'].isin(list_spk_keep)]"
   ]
  },
  {
   "cell_type": "code",
   "execution_count": 10,
   "metadata": {},
   "outputs": [
    {
     "data": {
      "text/html": [
       "\n",
       "        <iframe\n",
       "            width=\"100%\"\n",
       "            height=\"500px\"\n",
       "            src=\"src/generated_graph/s01e23/truth.html\"\n",
       "            frameborder=\"0\"\n",
       "            allowfullscreen\n",
       "        ></iframe>\n",
       "        "
      ],
      "text/plain": [
       "<IPython.lib.display.IFrame at 0x7fa77a1d7f28>"
      ]
     },
     "execution_count": 10,
     "metadata": {},
     "output_type": "execute_result"
    }
   ],
   "source": [
    "G, plot = build_graph(truth_events, \"conv\", \"speaker\", \"truth\", episode, spk_coord)\n",
    "plot"
   ]
  },
  {
   "cell_type": "markdown",
   "metadata": {},
   "source": [
    "# II. Speaker ID Prediction"
   ]
  },
  {
   "cell_type": "markdown",
   "metadata": {},
   "source": [
    "Benchmark performance from Kaldi:"
   ]
  },
  {
   "cell_type": "code",
   "execution_count": 11,
   "metadata": {},
   "outputs": [],
   "source": [
    "perf_s01e07 = 0.916\n",
    "perf_s01e08 = 0.919\n",
    "perf_s01e19 = 0.579\n",
    "perf_s01e20 = 0.746\n",
    "perf_s01e23 = 0.686\n",
    "perf_s02e01 = 0.880\n",
    "perf_s02e04 = 0.894"
   ]
  },
  {
   "cell_type": "markdown",
   "metadata": {},
   "source": [
    "We need 2 dataframes here, a summary of all of the scores of all speaker against each file, and another file of who has the maximum score, corresponding to the prediction of Speaker Id:"
   ]
  },
  {
   "cell_type": "code",
   "execution_count": 12,
   "metadata": {},
   "outputs": [
    {
     "data": {
      "text/html": [
       "<div>\n",
       "<style scoped>\n",
       "    .dataframe tbody tr th:only-of-type {\n",
       "        vertical-align: middle;\n",
       "    }\n",
       "\n",
       "    .dataframe tbody tr th {\n",
       "        vertical-align: top;\n",
       "    }\n",
       "\n",
       "    .dataframe thead th {\n",
       "        text-align: right;\n",
       "    }\n",
       "</style>\n",
       "<table border=\"1\" class=\"dataframe\">\n",
       "  <thead>\n",
       "    <tr style=\"text-align: right;\">\n",
       "      <th></th>\n",
       "      <th>Model</th>\n",
       "      <th>File</th>\n",
       "      <th>Truth</th>\n",
       "      <th>Conv</th>\n",
       "      <th>Score</th>\n",
       "    </tr>\n",
       "  </thead>\n",
       "  <tbody>\n",
       "    <tr>\n",
       "      <th>16</th>\n",
       "      <td>maleshopper</td>\n",
       "      <td>brass_Conv1</td>\n",
       "      <td>brass</td>\n",
       "      <td>1</td>\n",
       "      <td>-15.60860</td>\n",
       "    </tr>\n",
       "    <tr>\n",
       "      <th>137</th>\n",
       "      <td>bradwalden</td>\n",
       "      <td>brass_Conv1</td>\n",
       "      <td>brass</td>\n",
       "      <td>1</td>\n",
       "      <td>20.92868</td>\n",
       "    </tr>\n",
       "    <tr>\n",
       "      <th>258</th>\n",
       "      <td>hunterbaumgartner</td>\n",
       "      <td>brass_Conv1</td>\n",
       "      <td>brass</td>\n",
       "      <td>1</td>\n",
       "      <td>-16.20695</td>\n",
       "    </tr>\n",
       "    <tr>\n",
       "      <th>379</th>\n",
       "      <td>gregsanders</td>\n",
       "      <td>brass_Conv1</td>\n",
       "      <td>brass</td>\n",
       "      <td>1</td>\n",
       "      <td>-44.48259</td>\n",
       "    </tr>\n",
       "    <tr>\n",
       "      <th>500</th>\n",
       "      <td>brass</td>\n",
       "      <td>brass_Conv1</td>\n",
       "      <td>brass</td>\n",
       "      <td>1</td>\n",
       "      <td>62.38687</td>\n",
       "    </tr>\n",
       "  </tbody>\n",
       "</table>\n",
       "</div>"
      ],
      "text/plain": [
       "                 Model         File  Truth Conv     Score\n",
       "16         maleshopper  brass_Conv1  brass    1 -15.60860\n",
       "137         bradwalden  brass_Conv1  brass    1  20.92868\n",
       "258  hunterbaumgartner  brass_Conv1  brass    1 -16.20695\n",
       "379        gregsanders  brass_Conv1  brass    1 -44.48259\n",
       "500              brass  brass_Conv1  brass    1  62.38687"
      ]
     },
     "execution_count": 12,
     "metadata": {},
     "output_type": "execute_result"
    }
   ],
   "source": [
    "pred = get_all_pred_scores(\"src/speaker_id_output/scores_%s/csi_test_unique_scores\"%episode, spk_dict)\n",
    "pred.head()"
   ]
  },
  {
   "cell_type": "code",
   "execution_count": 13,
   "metadata": {},
   "outputs": [
    {
     "data": {
      "text/html": [
       "<div>\n",
       "<style scoped>\n",
       "    .dataframe tbody tr th:only-of-type {\n",
       "        vertical-align: middle;\n",
       "    }\n",
       "\n",
       "    .dataframe tbody tr th {\n",
       "        vertical-align: top;\n",
       "    }\n",
       "\n",
       "    .dataframe thead th {\n",
       "        text-align: right;\n",
       "    }\n",
       "</style>\n",
       "<table border=\"1\" class=\"dataframe\">\n",
       "  <thead>\n",
       "    <tr style=\"text-align: right;\">\n",
       "      <th></th>\n",
       "      <th>Pred</th>\n",
       "      <th>Truth</th>\n",
       "      <th>Conv</th>\n",
       "    </tr>\n",
       "  </thead>\n",
       "  <tbody>\n",
       "    <tr>\n",
       "      <th>0</th>\n",
       "      <td>brass</td>\n",
       "      <td>brass</td>\n",
       "      <td>1</td>\n",
       "    </tr>\n",
       "    <tr>\n",
       "      <th>1</th>\n",
       "      <td>grissom</td>\n",
       "      <td>grissom</td>\n",
       "      <td>1</td>\n",
       "    </tr>\n",
       "    <tr>\n",
       "      <th>2</th>\n",
       "      <td>dralbertrobbins</td>\n",
       "      <td>dralbertrobbins</td>\n",
       "      <td>10</td>\n",
       "    </tr>\n",
       "    <tr>\n",
       "      <th>3</th>\n",
       "      <td>dralbertrobbins</td>\n",
       "      <td>grissom</td>\n",
       "      <td>10</td>\n",
       "    </tr>\n",
       "    <tr>\n",
       "      <th>4</th>\n",
       "      <td>nick</td>\n",
       "      <td>nick</td>\n",
       "      <td>10</td>\n",
       "    </tr>\n",
       "  </tbody>\n",
       "</table>\n",
       "</div>"
      ],
      "text/plain": [
       "              Pred            Truth Conv\n",
       "0            brass            brass    1\n",
       "1          grissom          grissom    1\n",
       "2  dralbertrobbins  dralbertrobbins   10\n",
       "3  dralbertrobbins          grissom   10\n",
       "4             nick             nick   10"
      ]
     },
     "execution_count": 13,
     "metadata": {},
     "output_type": "execute_result"
    }
   ],
   "source": [
    "winners = get_pred_speakers(pred)\n",
    "winners.head()"
   ]
  },
  {
   "cell_type": "markdown",
   "metadata": {},
   "source": [
    "Re-compute the speaker accuracy:"
   ]
  },
  {
   "cell_type": "code",
   "execution_count": 14,
   "metadata": {},
   "outputs": [
    {
     "data": {
      "text/plain": [
       "0.6859504132231405"
      ]
     },
     "execution_count": 14,
     "metadata": {},
     "output_type": "execute_result"
    }
   ],
   "source": [
    "speaker_accuracy(winners)"
   ]
  },
  {
   "cell_type": "markdown",
   "metadata": {},
   "source": [
    "And plot the predicted network:"
   ]
  },
  {
   "cell_type": "code",
   "execution_count": 15,
   "metadata": {},
   "outputs": [
    {
     "data": {
      "text/html": [
       "\n",
       "        <iframe\n",
       "            width=\"100%\"\n",
       "            height=\"500px\"\n",
       "            src=\"src/generated_graph/s01e23/pred.html\"\n",
       "            frameborder=\"0\"\n",
       "            allowfullscreen\n",
       "        ></iframe>\n",
       "        "
      ],
      "text/plain": [
       "<IPython.lib.display.IFrame at 0x7fa77a1bbf28>"
      ]
     },
     "execution_count": 15,
     "metadata": {},
     "output_type": "execute_result"
    }
   ],
   "source": [
    "G_pred, plot_pred = build_graph(winners, \"Conv\", \"Pred\", \"pred\", episode, spk_coord)\n",
    "plot_pred"
   ]
  },
  {
   "cell_type": "markdown",
   "metadata": {},
   "source": [
    "# III. Improving Speaker Identification using Network Knowledge"
   ]
  },
  {
   "cell_type": "markdown",
   "metadata": {},
   "source": [
    "We need 2 datasets again, one to build the list of all candidates, and another one to keep all the candidates from pred above a given threshold:"
   ]
  },
  {
   "cell_type": "code",
   "execution_count": 16,
   "metadata": {},
   "outputs": [
    {
     "data": {
      "text/html": [
       "<div>\n",
       "<style scoped>\n",
       "    .dataframe tbody tr th:only-of-type {\n",
       "        vertical-align: middle;\n",
       "    }\n",
       "\n",
       "    .dataframe tbody tr th {\n",
       "        vertical-align: top;\n",
       "    }\n",
       "\n",
       "    .dataframe thead th {\n",
       "        text-align: right;\n",
       "    }\n",
       "</style>\n",
       "<table border=\"1\" class=\"dataframe\">\n",
       "  <thead>\n",
       "    <tr style=\"text-align: right;\">\n",
       "      <th></th>\n",
       "      <th>Conv</th>\n",
       "      <th>NumChar</th>\n",
       "      <th>Conversation</th>\n",
       "      <th>Truth</th>\n",
       "      <th>Candidate</th>\n",
       "      <th>Score</th>\n",
       "    </tr>\n",
       "  </thead>\n",
       "  <tbody>\n",
       "    <tr>\n",
       "      <th>0</th>\n",
       "      <td>1</td>\n",
       "      <td>2</td>\n",
       "      <td>1_brass</td>\n",
       "      <td>[brass, grissom]</td>\n",
       "      <td>[maleshopper, bradwalden, hunterbaumgartner, b...</td>\n",
       "      <td>[-15.6086, 20.92868, -16.20695, 62.38687, 21.7...</td>\n",
       "    </tr>\n",
       "    <tr>\n",
       "      <th>11</th>\n",
       "      <td>2</td>\n",
       "      <td>3</td>\n",
       "      <td>2_brass</td>\n",
       "      <td>[brass, grissom, sara]</td>\n",
       "      <td>[maleshopper, bradwalden, hunterbaumgartner, g...</td>\n",
       "      <td>[-34.3393, -28.01566, -10.51414, -28.32325, -3...</td>\n",
       "    </tr>\n",
       "    <tr>\n",
       "      <th>30</th>\n",
       "      <td>4</td>\n",
       "      <td>2</td>\n",
       "      <td>4_grissom</td>\n",
       "      <td>[grissom, sara]</td>\n",
       "      <td>[maleshopper, bradwalden, hunterbaumgartner, g...</td>\n",
       "      <td>[-23.39263, -28.59703, -16.32076, -7.717767, -...</td>\n",
       "    </tr>\n",
       "    <tr>\n",
       "      <th>41</th>\n",
       "      <td>5</td>\n",
       "      <td>4</td>\n",
       "      <td>5_catherine</td>\n",
       "      <td>[catherine, grissom, sara, warrick]</td>\n",
       "      <td>[maleshopper, bradwalden, hunterbaumgartner, g...</td>\n",
       "      <td>[-0.05778657, -32.82574, 7.806642, 6.962511, -...</td>\n",
       "    </tr>\n",
       "    <tr>\n",
       "      <th>46</th>\n",
       "      <td>6</td>\n",
       "      <td>2</td>\n",
       "      <td>6_grissom</td>\n",
       "      <td>[grissom, sheriffbrianmobley]</td>\n",
       "      <td>[maleshopper, bradwalden, hunterbaumgartner, g...</td>\n",
       "      <td>[-0.8141875, 6.923984, -10.56885, -8.876238, -...</td>\n",
       "    </tr>\n",
       "  </tbody>\n",
       "</table>\n",
       "</div>"
      ],
      "text/plain": [
       "    Conv  NumChar Conversation                                Truth  \\\n",
       "0      1        2      1_brass                     [brass, grissom]   \n",
       "11     2        3      2_brass               [brass, grissom, sara]   \n",
       "30     4        2    4_grissom                      [grissom, sara]   \n",
       "41     5        4  5_catherine  [catherine, grissom, sara, warrick]   \n",
       "46     6        2    6_grissom        [grissom, sheriffbrianmobley]   \n",
       "\n",
       "                                            Candidate  \\\n",
       "0   [maleshopper, bradwalden, hunterbaumgartner, b...   \n",
       "11  [maleshopper, bradwalden, hunterbaumgartner, g...   \n",
       "30  [maleshopper, bradwalden, hunterbaumgartner, g...   \n",
       "41  [maleshopper, bradwalden, hunterbaumgartner, g...   \n",
       "46  [maleshopper, bradwalden, hunterbaumgartner, g...   \n",
       "\n",
       "                                                Score  \n",
       "0   [-15.6086, 20.92868, -16.20695, 62.38687, 21.7...  \n",
       "11  [-34.3393, -28.01566, -10.51414, -28.32325, -3...  \n",
       "30  [-23.39263, -28.59703, -16.32076, -7.717767, -...  \n",
       "41  [-0.05778657, -32.82574, 7.806642, 6.962511, -...  \n",
       "46  [-0.8141875, 6.923984, -10.56885, -8.876238, -...  "
      ]
     },
     "execution_count": 16,
     "metadata": {},
     "output_type": "execute_result"
    }
   ],
   "source": [
    "cand = build_candidates(pred)\n",
    "cand.head()"
   ]
  },
  {
   "cell_type": "code",
   "execution_count": 17,
   "metadata": {},
   "outputs": [
    {
     "name": "stderr",
     "output_type": "stream",
     "text": [
      "/Users/maelfabien/Graph2Speak/src/utils.py:571: SettingWithCopyWarning: \n",
      "A value is trying to be set on a copy of a slice from a DataFrame.\n",
      "Try using .loc[row_indexer,col_indexer] = value instead\n",
      "\n",
      "See the caveats in the documentation: https://pandas.pydata.org/pandas-docs/stable/user_guide/indexing.html#returning-a-view-versus-a-copy\n",
      "  score_sup[\"Conv\"] = score_sup[\"Conv\"].astype(int)\n"
     ]
    },
    {
     "data": {
      "text/html": [
       "<div>\n",
       "<style scoped>\n",
       "    .dataframe tbody tr th:only-of-type {\n",
       "        vertical-align: middle;\n",
       "    }\n",
       "\n",
       "    .dataframe tbody tr th {\n",
       "        vertical-align: top;\n",
       "    }\n",
       "\n",
       "    .dataframe thead th {\n",
       "        text-align: right;\n",
       "    }\n",
       "</style>\n",
       "<table border=\"1\" class=\"dataframe\">\n",
       "  <thead>\n",
       "    <tr style=\"text-align: right;\">\n",
       "      <th></th>\n",
       "      <th>Model</th>\n",
       "      <th>File</th>\n",
       "      <th>Truth</th>\n",
       "      <th>Conv</th>\n",
       "      <th>Score</th>\n",
       "    </tr>\n",
       "  </thead>\n",
       "  <tbody>\n",
       "    <tr>\n",
       "      <th>0</th>\n",
       "      <td>bradwalden</td>\n",
       "      <td>brass_Conv1</td>\n",
       "      <td>brass</td>\n",
       "      <td>1</td>\n",
       "      <td>20.928680</td>\n",
       "    </tr>\n",
       "    <tr>\n",
       "      <th>1</th>\n",
       "      <td>brass</td>\n",
       "      <td>brass_Conv1</td>\n",
       "      <td>brass</td>\n",
       "      <td>1</td>\n",
       "      <td>62.386870</td>\n",
       "    </tr>\n",
       "    <tr>\n",
       "      <th>2</th>\n",
       "      <td>sydgoggle</td>\n",
       "      <td>brass_Conv1</td>\n",
       "      <td>brass</td>\n",
       "      <td>1</td>\n",
       "      <td>21.743450</td>\n",
       "    </tr>\n",
       "    <tr>\n",
       "      <th>3</th>\n",
       "      <td>dralbertrobbins</td>\n",
       "      <td>brass_Conv1</td>\n",
       "      <td>brass</td>\n",
       "      <td>1</td>\n",
       "      <td>23.832340</td>\n",
       "    </tr>\n",
       "    <tr>\n",
       "      <th>4</th>\n",
       "      <td>sheriffbrianmobley</td>\n",
       "      <td>brass_Conv1</td>\n",
       "      <td>brass</td>\n",
       "      <td>1</td>\n",
       "      <td>6.081506</td>\n",
       "    </tr>\n",
       "  </tbody>\n",
       "</table>\n",
       "</div>"
      ],
      "text/plain": [
       "                Model         File  Truth  Conv      Score\n",
       "0          bradwalden  brass_Conv1  brass     1  20.928680\n",
       "1               brass  brass_Conv1  brass     1  62.386870\n",
       "2           sydgoggle  brass_Conv1  brass     1  21.743450\n",
       "3     dralbertrobbins  brass_Conv1  brass     1  23.832340\n",
       "4  sheriffbrianmobley  brass_Conv1  brass     1   6.081506"
      ]
     },
     "execution_count": 17,
     "metadata": {},
     "output_type": "execute_result"
    }
   ],
   "source": [
    "score_sup = keep_higher_scores(pred, threshold=-15)\n",
    "score_sup.head()"
   ]
  },
  {
   "cell_type": "code",
   "execution_count": 18,
   "metadata": {
    "scrolled": true
   },
   "outputs": [
    {
     "name": "stdout",
     "output_type": "stream",
     "text": [
      "Conversation 1 out of 54\n",
      "Conversation 2 out of 54\n",
      "Conversation 4 out of 54\n",
      "Conversation 5 out of 54\n",
      "Conversation 6 out of 54\n",
      "Conversation 7 out of 54\n",
      "Conversation 8 out of 54\n",
      "Conversation 9 out of 54\n",
      "Conversation 10 out of 54\n",
      "Conversation 11 out of 54\n",
      "Conversation 12 out of 54\n",
      "Conversation 13 out of 54\n",
      "Conversation 14 out of 54\n",
      "Conversation 15 out of 54\n",
      "Conversation 16 out of 54\n",
      "Conversation 17 out of 54\n",
      "Conversation 18 out of 54\n",
      "Conversation 19 out of 54\n",
      "Conversation 20 out of 54\n",
      "Conversation 21 out of 54\n",
      "Conversation 22 out of 54\n",
      "Conversation 23 out of 54\n",
      "Conversation 24 out of 54\n",
      "Conversation 25 out of 54\n",
      "Conversation 27 out of 54\n",
      "Conversation 28 out of 54\n",
      "Conversation 29 out of 54\n",
      "Conversation 30 out of 54\n",
      "Conversation 31 out of 54\n",
      "Conversation 32 out of 54\n",
      "Conversation 33 out of 54\n",
      "Conversation 35 out of 54\n",
      "Conversation 37 out of 54\n",
      "Conversation 38 out of 54\n",
      "Conversation 39 out of 54\n",
      "Conversation 40 out of 54\n",
      "Conversation 41 out of 54\n",
      "Conversation 42 out of 54\n",
      "Conversation 43 out of 54\n",
      "Conversation 44 out of 54\n",
      "Conversation 45 out of 54\n",
      "Conversation 46 out of 54\n",
      "Conversation 47 out of 54\n",
      "Conversation 48 out of 54\n",
      "Conversation 49 out of 54\n",
      "Conversation 51 out of 54\n",
      "Conversation 52 out of 54\n",
      "Conversation 53 out of 54\n",
      "Conversation 54 out of 54\n"
     ]
    }
   ],
   "source": [
    "df_res, G_rank, trace_conv = rerank_graph(score_sup, winners, cand, threshold=-15)"
   ]
  },
  {
   "cell_type": "markdown",
   "metadata": {},
   "source": [
    "Where are predictions different?"
   ]
  },
  {
   "cell_type": "code",
   "execution_count": 19,
   "metadata": {
    "scrolled": true
   },
   "outputs": [
    {
     "data": {
      "text/html": [
       "<div>\n",
       "<style scoped>\n",
       "    .dataframe tbody tr th:only-of-type {\n",
       "        vertical-align: middle;\n",
       "    }\n",
       "\n",
       "    .dataframe tbody tr th {\n",
       "        vertical-align: top;\n",
       "    }\n",
       "\n",
       "    .dataframe thead th {\n",
       "        text-align: right;\n",
       "    }\n",
       "</style>\n",
       "<table border=\"1\" class=\"dataframe\">\n",
       "  <thead>\n",
       "    <tr style=\"text-align: right;\">\n",
       "      <th></th>\n",
       "      <th>Conv</th>\n",
       "      <th>GaphEnhance</th>\n",
       "      <th>Truth</th>\n",
       "      <th>Prediction</th>\n",
       "    </tr>\n",
       "  </thead>\n",
       "  <tbody>\n",
       "    <tr>\n",
       "      <th>1</th>\n",
       "      <td>2</td>\n",
       "      <td>[brass, grissom, hunterbaumgartner]</td>\n",
       "      <td>[brass, grissom, sara]</td>\n",
       "      <td>[grissom, hunterbaumgartner, sara]</td>\n",
       "    </tr>\n",
       "    <tr>\n",
       "      <th>3</th>\n",
       "      <td>5</td>\n",
       "      <td>[brass, grissom, grissom, hunterbaumgartner]</td>\n",
       "      <td>[catherine, grissom, sara, warrick]</td>\n",
       "      <td>[catherine, grissom, grissom, warrick]</td>\n",
       "    </tr>\n",
       "    <tr>\n",
       "      <th>5</th>\n",
       "      <td>7</td>\n",
       "      <td>[agentrickculpepper, brass, grissom]</td>\n",
       "      <td>[agentrickculpepper, grissom, sheriffbrianmobley]</td>\n",
       "      <td>[agentrickculpepper, agentrickculpepper, grissom]</td>\n",
       "    </tr>\n",
       "    <tr>\n",
       "      <th>8</th>\n",
       "      <td>10</td>\n",
       "      <td>[brass, grissom, grissom]</td>\n",
       "      <td>[dralbertrobbins, grissom, nick]</td>\n",
       "      <td>[dralbertrobbins, dralbertrobbins, nick]</td>\n",
       "    </tr>\n",
       "    <tr>\n",
       "      <th>9</th>\n",
       "      <td>11</td>\n",
       "      <td>[brass, grissom]</td>\n",
       "      <td>[dralbertrobbins, grissom]</td>\n",
       "      <td>[dralbertrobbins, grissom]</td>\n",
       "    </tr>\n",
       "    <tr>\n",
       "      <th>14</th>\n",
       "      <td>16</td>\n",
       "      <td>[brass, grissom, grissom]</td>\n",
       "      <td>[agentrickculpepper, grissom, sara]</td>\n",
       "      <td>[agentrickculpepper, grissom, grissom]</td>\n",
       "    </tr>\n",
       "    <tr>\n",
       "      <th>19</th>\n",
       "      <td>21</td>\n",
       "      <td>[brass, grissom]</td>\n",
       "      <td>[brass, grissom]</td>\n",
       "      <td>[brass, brass]</td>\n",
       "    </tr>\n",
       "    <tr>\n",
       "      <th>20</th>\n",
       "      <td>22</td>\n",
       "      <td>[brass, grissom, sara]</td>\n",
       "      <td>[agentrickculpepper, grissom, sara]</td>\n",
       "      <td>[agentrickculpepper, agentrickculpepper, sara]</td>\n",
       "    </tr>\n",
       "    <tr>\n",
       "      <th>24</th>\n",
       "      <td>27</td>\n",
       "      <td>[maleshopper, sara]</td>\n",
       "      <td>[agentrickculpepper, maleshopper, sara]</td>\n",
       "      <td>[maleshopper, nick, sara]</td>\n",
       "    </tr>\n",
       "    <tr>\n",
       "      <th>26</th>\n",
       "      <td>29</td>\n",
       "      <td>[agentrickculpepper, brass, grissom, nick]</td>\n",
       "      <td>[agentrickculpepper, grissom, maleshopper, sara]</td>\n",
       "      <td>[agentrickculpepper, grissom, hunterbaumgartne...</td>\n",
       "    </tr>\n",
       "    <tr>\n",
       "      <th>27</th>\n",
       "      <td>30</td>\n",
       "      <td>[brass, brass, grissom, grissom]</td>\n",
       "      <td>[agentrickculpepper, brass, catherine, grissom]</td>\n",
       "      <td>[agentrickculpepper, brass, catherine, grissom]</td>\n",
       "    </tr>\n",
       "    <tr>\n",
       "      <th>29</th>\n",
       "      <td>32</td>\n",
       "      <td>[agentrickculpepper, brass, grissom]</td>\n",
       "      <td>[agentrickculpepper, bradwalden, grissom]</td>\n",
       "      <td>[agentrickculpepper, bradwalden, grissom]</td>\n",
       "    </tr>\n",
       "    <tr>\n",
       "      <th>30</th>\n",
       "      <td>33</td>\n",
       "      <td>[brass, grissom]</td>\n",
       "      <td>[agentrickculpepper, grissom]</td>\n",
       "      <td>[agentrickculpepper, grissom]</td>\n",
       "    </tr>\n",
       "    <tr>\n",
       "      <th>34</th>\n",
       "      <td>39</td>\n",
       "      <td>[brass, grissom, grissom, nick]</td>\n",
       "      <td>[catherine, grissom, nick, warrick]</td>\n",
       "      <td>[grissom, nick, warrick, warrick]</td>\n",
       "    </tr>\n",
       "    <tr>\n",
       "      <th>35</th>\n",
       "      <td>40</td>\n",
       "      <td>[catherine, grissom]</td>\n",
       "      <td>[catherine, grissom]</td>\n",
       "      <td>[brass, catherine]</td>\n",
       "    </tr>\n",
       "    <tr>\n",
       "      <th>36</th>\n",
       "      <td>41</td>\n",
       "      <td>[grissom, nick, warrick]</td>\n",
       "      <td>[grissom, nick, sara, warrick]</td>\n",
       "      <td>[grissom, nick, warrick, warrick]</td>\n",
       "    </tr>\n",
       "    <tr>\n",
       "      <th>42</th>\n",
       "      <td>47</td>\n",
       "      <td>[maleshopper, sydgoggle]</td>\n",
       "      <td>[grissom, nick, sydgoggle]</td>\n",
       "      <td>[maleshopper, nick, sydgoggle]</td>\n",
       "    </tr>\n",
       "  </tbody>\n",
       "</table>\n",
       "</div>"
      ],
      "text/plain": [
       "   Conv                                   GaphEnhance  \\\n",
       "1     2           [brass, grissom, hunterbaumgartner]   \n",
       "3     5  [brass, grissom, grissom, hunterbaumgartner]   \n",
       "5     7          [agentrickculpepper, brass, grissom]   \n",
       "8    10                     [brass, grissom, grissom]   \n",
       "9    11                              [brass, grissom]   \n",
       "14   16                     [brass, grissom, grissom]   \n",
       "19   21                              [brass, grissom]   \n",
       "20   22                        [brass, grissom, sara]   \n",
       "24   27                           [maleshopper, sara]   \n",
       "26   29    [agentrickculpepper, brass, grissom, nick]   \n",
       "27   30              [brass, brass, grissom, grissom]   \n",
       "29   32          [agentrickculpepper, brass, grissom]   \n",
       "30   33                              [brass, grissom]   \n",
       "34   39               [brass, grissom, grissom, nick]   \n",
       "35   40                          [catherine, grissom]   \n",
       "36   41                      [grissom, nick, warrick]   \n",
       "42   47                      [maleshopper, sydgoggle]   \n",
       "\n",
       "                                                Truth  \\\n",
       "1                              [brass, grissom, sara]   \n",
       "3                 [catherine, grissom, sara, warrick]   \n",
       "5   [agentrickculpepper, grissom, sheriffbrianmobley]   \n",
       "8                    [dralbertrobbins, grissom, nick]   \n",
       "9                          [dralbertrobbins, grissom]   \n",
       "14                [agentrickculpepper, grissom, sara]   \n",
       "19                                   [brass, grissom]   \n",
       "20                [agentrickculpepper, grissom, sara]   \n",
       "24            [agentrickculpepper, maleshopper, sara]   \n",
       "26   [agentrickculpepper, grissom, maleshopper, sara]   \n",
       "27    [agentrickculpepper, brass, catherine, grissom]   \n",
       "29          [agentrickculpepper, bradwalden, grissom]   \n",
       "30                      [agentrickculpepper, grissom]   \n",
       "34                [catherine, grissom, nick, warrick]   \n",
       "35                               [catherine, grissom]   \n",
       "36                     [grissom, nick, sara, warrick]   \n",
       "42                         [grissom, nick, sydgoggle]   \n",
       "\n",
       "                                           Prediction  \n",
       "1                  [grissom, hunterbaumgartner, sara]  \n",
       "3              [catherine, grissom, grissom, warrick]  \n",
       "5   [agentrickculpepper, agentrickculpepper, grissom]  \n",
       "8            [dralbertrobbins, dralbertrobbins, nick]  \n",
       "9                          [dralbertrobbins, grissom]  \n",
       "14             [agentrickculpepper, grissom, grissom]  \n",
       "19                                     [brass, brass]  \n",
       "20     [agentrickculpepper, agentrickculpepper, sara]  \n",
       "24                          [maleshopper, nick, sara]  \n",
       "26  [agentrickculpepper, grissom, hunterbaumgartne...  \n",
       "27    [agentrickculpepper, brass, catherine, grissom]  \n",
       "29          [agentrickculpepper, bradwalden, grissom]  \n",
       "30                      [agentrickculpepper, grissom]  \n",
       "34                  [grissom, nick, warrick, warrick]  \n",
       "35                                 [brass, catherine]  \n",
       "36                  [grissom, nick, warrick, warrick]  \n",
       "42                     [maleshopper, nick, sydgoggle]  "
      ]
     },
     "execution_count": 19,
     "metadata": {},
     "output_type": "execute_result"
    }
   ],
   "source": [
    "df_res[df_res['GaphEnhance'] != df_res['Prediction']]"
   ]
  },
  {
   "cell_type": "markdown",
   "metadata": {},
   "source": [
    "### Conversation accuracy"
   ]
  },
  {
   "cell_type": "code",
   "execution_count": 20,
   "metadata": {},
   "outputs": [
    {
     "data": {
      "text/plain": [
       "0.40816326530612246"
      ]
     },
     "execution_count": 20,
     "metadata": {},
     "output_type": "execute_result"
    }
   ],
   "source": [
    "conversation_accuracy(df_res, \"Prediction\")"
   ]
  },
  {
   "cell_type": "code",
   "execution_count": 21,
   "metadata": {},
   "outputs": [
    {
     "data": {
      "text/plain": [
       "0.3673469387755102"
      ]
     },
     "execution_count": 21,
     "metadata": {},
     "output_type": "execute_result"
    }
   ],
   "source": [
    "conversation_accuracy(df_res, \"GaphEnhance\")"
   ]
  },
  {
   "cell_type": "markdown",
   "metadata": {},
   "source": [
    "### Speaker accuracy"
   ]
  },
  {
   "cell_type": "code",
   "execution_count": 22,
   "metadata": {},
   "outputs": [
    {
     "data": {
      "text/plain": [
       "0.7142857142857143"
      ]
     },
     "execution_count": 22,
     "metadata": {},
     "output_type": "execute_result"
    }
   ],
   "source": [
    "final_speaker_accuracy(df_res, \"Prediction\")"
   ]
  },
  {
   "cell_type": "code",
   "execution_count": 23,
   "metadata": {},
   "outputs": [
    {
     "data": {
      "text/plain": [
       "0.6386554621848739"
      ]
     },
     "execution_count": 23,
     "metadata": {},
     "output_type": "execute_result"
    }
   ],
   "source": [
    "final_speaker_accuracy(df_res, \"GaphEnhance\")"
   ]
  },
  {
   "cell_type": "markdown",
   "metadata": {},
   "source": [
    "### Final Network"
   ]
  },
  {
   "cell_type": "code",
   "execution_count": 24,
   "metadata": {
    "scrolled": false
   },
   "outputs": [
    {
     "data": {
      "text/html": [
       "\n",
       "        <iframe\n",
       "            width=\"100%\"\n",
       "            height=\"500px\"\n",
       "            src=\"src/generated_graph/s01e23/rerank.html\"\n",
       "            frameborder=\"0\"\n",
       "            allowfullscreen\n",
       "        ></iframe>\n",
       "        "
      ],
      "text/plain": [
       "<IPython.lib.display.IFrame at 0x7fa779a98198>"
      ]
     },
     "execution_count": 24,
     "metadata": {},
     "output_type": "execute_result"
    }
   ],
   "source": [
    "plot_rank = final_graph(G_rank, trace_conv, episode, spk_coord)\n",
    "plot_rank"
   ]
  }
 ],
 "metadata": {
  "kernelspec": {
   "display_name": "Python 3",
   "language": "python",
   "name": "python3"
  },
  "language_info": {
   "codemirror_mode": {
    "name": "ipython",
    "version": 3
   },
   "file_extension": ".py",
   "mimetype": "text/x-python",
   "name": "python",
   "nbconvert_exporter": "python",
   "pygments_lexer": "ipython3",
   "version": "3.7.3"
  }
 },
 "nbformat": 4,
 "nbformat_minor": 2
}
