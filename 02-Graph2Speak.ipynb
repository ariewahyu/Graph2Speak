{
 "cells": [
  {
   "cell_type": "markdown",
   "metadata": {},
   "source": [
    "<center><h1 style=\"font-size:3em\"> Graph2Speak </h1></center>\n",
    "<center><h3> Improving Speaker Identification using Network Knowledge in Criminal Conversational Data </h3><center>"
   ]
  },
  {
   "cell_type": "markdown",
   "metadata": {},
   "source": [
    "Paper: https://arxiv.org/abs/2006.02093\n",
    "\n",
    "*Maël Fabien, Seyyed Saeed Sarfjoo, Petr Motlicek, Srikanth Madikeri*"
   ]
  },
  {
   "cell_type": "code",
   "execution_count": 1,
   "metadata": {},
   "outputs": [],
   "source": [
    "# General\n",
    "import numpy as np\n",
    "import pandas as pd\n",
    "import matplotlib.pyplot as plt\n",
    "\n",
    "# Set of functions\n",
    "from src.utils import *"
   ]
  },
  {
   "cell_type": "code",
   "execution_count": 2,
   "metadata": {},
   "outputs": [],
   "source": [
    "episode = \"s02e09\""
   ]
  },
  {
   "cell_type": "code",
   "execution_count": 3,
   "metadata": {
    "scrolled": true
   },
   "outputs": [
    {
     "data": {
      "text/plain": [
       "({'mrfram': '1001_csi',\n",
       "  'detoriley': '1002_csi',\n",
       "  'davidphillips': '1003_csi',\n",
       "  'robbins': '1004_csi',\n",
       "  'kelseyfram': '1005_csi',\n",
       "  'dennisfram': '1006_csi',\n",
       "  'managerofromaninis': '1007_csi',\n",
       "  'juliabarett': '1008_csi',\n",
       "  'nick': '1009_csi',\n",
       "  'brass': '1010_csi',\n",
       "  'sara': '1011_csi',\n",
       "  'warrick': '1012_csi',\n",
       "  'catherine': '1013_csi',\n",
       "  'grissom': '1014_csi'},\n",
       " {'1001_csi': 'mrfram',\n",
       "  '1002_csi': 'detoriley',\n",
       "  '1003_csi': 'davidphillips',\n",
       "  '1004_csi': 'robbins',\n",
       "  '1005_csi': 'kelseyfram',\n",
       "  '1006_csi': 'dennisfram',\n",
       "  '1007_csi': 'managerofromaninis',\n",
       "  '1008_csi': 'juliabarett',\n",
       "  '1009_csi': 'nick',\n",
       "  '1010_csi': 'brass',\n",
       "  '1011_csi': 'sara',\n",
       "  '1012_csi': 'warrick',\n",
       "  '1013_csi': 'catherine',\n",
       "  '1014_csi': 'grissom'},\n",
       " {'mrfram': [50, 50],\n",
       "  'detoriley': [50, 100],\n",
       "  'davidphillips': [50, 150],\n",
       "  'robbins': [100, 50],\n",
       "  'kelseyfram': [100, 100],\n",
       "  'dennisfram': [100, 150],\n",
       "  'managerofromaninis': [150, 50],\n",
       "  'juliabarett': [150, 100],\n",
       "  'nick': [150, 150],\n",
       "  'brass': [200, 50],\n",
       "  'sara': [200, 100],\n",
       "  'warrick': [200, 150],\n",
       "  'catherine': [300, 50],\n",
       "  'grissom': [300, 100]})"
      ]
     },
     "execution_count": 3,
     "metadata": {},
     "output_type": "execute_result"
    }
   ],
   "source": [
    "dict_spk, spk_dict, spk_coord = ep_dicts(episode)\n",
    "dict_spk, spk_dict, spk_coord"
   ]
  },
  {
   "cell_type": "markdown",
   "metadata": {},
   "source": [
    "# I. Ground truth"
   ]
  },
  {
   "cell_type": "code",
   "execution_count": 4,
   "metadata": {},
   "outputs": [
    {
     "data": {
      "text/html": [
       "<div>\n",
       "<style scoped>\n",
       "    .dataframe tbody tr th:only-of-type {\n",
       "        vertical-align: middle;\n",
       "    }\n",
       "\n",
       "    .dataframe tbody tr th {\n",
       "        vertical-align: top;\n",
       "    }\n",
       "\n",
       "    .dataframe thead th {\n",
       "        text-align: right;\n",
       "    }\n",
       "</style>\n",
       "<table border=\"1\" class=\"dataframe\">\n",
       "  <thead>\n",
       "    <tr style=\"text-align: right;\">\n",
       "      <th></th>\n",
       "      <th>speaker</th>\n",
       "      <th>conv</th>\n",
       "    </tr>\n",
       "  </thead>\n",
       "  <tbody>\n",
       "    <tr>\n",
       "      <th>0</th>\n",
       "      <td>barryschickle</td>\n",
       "      <td>0.0</td>\n",
       "    </tr>\n",
       "    <tr>\n",
       "      <th>1</th>\n",
       "      <td>barryschickle</td>\n",
       "      <td>0.0</td>\n",
       "    </tr>\n",
       "    <tr>\n",
       "      <th>2</th>\n",
       "      <td>barryschickle</td>\n",
       "      <td>0.0</td>\n",
       "    </tr>\n",
       "    <tr>\n",
       "      <th>3</th>\n",
       "      <td>barryschickle</td>\n",
       "      <td>0.0</td>\n",
       "    </tr>\n",
       "    <tr>\n",
       "      <th>4</th>\n",
       "      <td>barryschickle</td>\n",
       "      <td>0.0</td>\n",
       "    </tr>\n",
       "  </tbody>\n",
       "</table>\n",
       "</div>"
      ],
      "text/plain": [
       "         speaker  conv\n",
       "0  barryschickle   0.0\n",
       "1  barryschickle   0.0\n",
       "2  barryschickle   0.0\n",
       "3  barryschickle   0.0\n",
       "4  barryschickle   0.0"
      ]
     },
     "execution_count": 4,
     "metadata": {},
     "output_type": "execute_result"
    }
   ],
   "source": [
    "truth_events = pd.read_csv(\"src/graph_input/all_events_%s.csv\"%episode).drop_duplicates().dropna()\n",
    "\n",
    "dict_len = {}\n",
    "for c in np.unique(truth_events['conv']):\n",
    "    dict_len[int(c)] = len(truth_events[truth_events['conv']==c])\n",
    "        \n",
    "truth_events = truth_events[['speaker', 'conv']]\n",
    "truth_events['speaker'] = truth_events['speaker'].apply(lambda x: x.replace(\"/\", \"\").replace(\".\", \"\").replace(\"'\", \"\"))\n",
    "truth_events.head()"
   ]
  },
  {
   "cell_type": "code",
   "execution_count": 5,
   "metadata": {},
   "outputs": [],
   "source": [
    "f = open(\"src/speaker_id_input/%s.txt\"%episode, \"r\")\n",
    "list_spk_keep = []\n",
    "\n",
    "for line in f:\n",
    "    list_spk_keep.append(line.replace(\"\\n\", \"\").replace(\".\", \"\").replace(\"'\", \"\"))"
   ]
  },
  {
   "cell_type": "code",
   "execution_count": 6,
   "metadata": {},
   "outputs": [],
   "source": [
    "truth_events = truth_events[truth_events['speaker'].isin(list_spk_keep)]"
   ]
  },
  {
   "cell_type": "code",
   "execution_count": 7,
   "metadata": {},
   "outputs": [
    {
     "data": {
      "text/html": [
       "\n",
       "        <iframe\n",
       "            width=\"100%\"\n",
       "            height=\"500px\"\n",
       "            src=\"src/generated_graph/s02e04/truth.html\"\n",
       "            frameborder=\"0\"\n",
       "            allowfullscreen\n",
       "        ></iframe>\n",
       "        "
      ],
      "text/plain": [
       "<IPython.lib.display.IFrame at 0x7fa77c848828>"
      ]
     },
     "execution_count": 7,
     "metadata": {},
     "output_type": "execute_result"
    }
   ],
   "source": [
    "G, plot = build_graph(truth_events, \"conv\", \"speaker\", \"truth\", episode, spk_coord)\n",
    "plot"
   ]
  },
  {
   "cell_type": "markdown",
   "metadata": {},
   "source": [
    "# II. Speaker ID Prediction"
   ]
  },
  {
   "cell_type": "markdown",
   "metadata": {},
   "source": [
    "Benchmark performance from Kaldi:"
   ]
  },
  {
   "cell_type": "code",
   "execution_count": 8,
   "metadata": {},
   "outputs": [],
   "source": [
    "perf_s01e07 = 0.916\n",
    "perf_s01e08 = 0.919\n",
    "perf_s01e19 = 0.579\n",
    "perf_s01e20 = 0.746\n",
    "perf_s01e23 = 0.686\n",
    "perf_s02e01 = 0.880\n",
    "perf_s02e04 = 0.894\n",
    "perf_s02e06 = 0.855"
   ]
  },
  {
   "cell_type": "markdown",
   "metadata": {},
   "source": [
    "We need 2 dataframes here, a summary of all of the scores of all speaker against each file, and another file of who has the maximum score, corresponding to the prediction of Speaker Id:"
   ]
  },
  {
   "cell_type": "code",
   "execution_count": 9,
   "metadata": {},
   "outputs": [
    {
     "data": {
      "text/html": [
       "<div>\n",
       "<style scoped>\n",
       "    .dataframe tbody tr th:only-of-type {\n",
       "        vertical-align: middle;\n",
       "    }\n",
       "\n",
       "    .dataframe tbody tr th {\n",
       "        vertical-align: top;\n",
       "    }\n",
       "\n",
       "    .dataframe thead th {\n",
       "        text-align: right;\n",
       "    }\n",
       "</style>\n",
       "<table border=\"1\" class=\"dataframe\">\n",
       "  <thead>\n",
       "    <tr style=\"text-align: right;\">\n",
       "      <th></th>\n",
       "      <th>Model</th>\n",
       "      <th>File</th>\n",
       "      <th>Truth</th>\n",
       "      <th>Conv</th>\n",
       "      <th>Score</th>\n",
       "    </tr>\n",
       "  </thead>\n",
       "  <tbody>\n",
       "    <tr>\n",
       "      <th>120</th>\n",
       "      <td>mrfram</td>\n",
       "      <td>brass_Conv1</td>\n",
       "      <td>brass</td>\n",
       "      <td>1</td>\n",
       "      <td>-38.866570</td>\n",
       "    </tr>\n",
       "    <tr>\n",
       "      <th>243</th>\n",
       "      <td>detoriley</td>\n",
       "      <td>brass_Conv1</td>\n",
       "      <td>brass</td>\n",
       "      <td>1</td>\n",
       "      <td>-1.792155</td>\n",
       "    </tr>\n",
       "    <tr>\n",
       "      <th>366</th>\n",
       "      <td>davidphillips</td>\n",
       "      <td>brass_Conv1</td>\n",
       "      <td>brass</td>\n",
       "      <td>1</td>\n",
       "      <td>-39.434230</td>\n",
       "    </tr>\n",
       "    <tr>\n",
       "      <th>489</th>\n",
       "      <td>robbins</td>\n",
       "      <td>brass_Conv1</td>\n",
       "      <td>brass</td>\n",
       "      <td>1</td>\n",
       "      <td>-10.196010</td>\n",
       "    </tr>\n",
       "    <tr>\n",
       "      <th>612</th>\n",
       "      <td>kelseyfram</td>\n",
       "      <td>brass_Conv1</td>\n",
       "      <td>brass</td>\n",
       "      <td>1</td>\n",
       "      <td>-20.952740</td>\n",
       "    </tr>\n",
       "  </tbody>\n",
       "</table>\n",
       "</div>"
      ],
      "text/plain": [
       "             Model         File  Truth Conv      Score\n",
       "120         mrfram  brass_Conv1  brass    1 -38.866570\n",
       "243      detoriley  brass_Conv1  brass    1  -1.792155\n",
       "366  davidphillips  brass_Conv1  brass    1 -39.434230\n",
       "489        robbins  brass_Conv1  brass    1 -10.196010\n",
       "612     kelseyfram  brass_Conv1  brass    1 -20.952740"
      ]
     },
     "execution_count": 9,
     "metadata": {},
     "output_type": "execute_result"
    }
   ],
   "source": [
    "pred = get_all_pred_scores(\"src/speaker_id_output/scores_%s/csi_test_unique_scores\"%episode, spk_dict)\n",
    "pred.head()"
   ]
  },
  {
   "cell_type": "code",
   "execution_count": 10,
   "metadata": {},
   "outputs": [
    {
     "data": {
      "text/html": [
       "<div>\n",
       "<style scoped>\n",
       "    .dataframe tbody tr th:only-of-type {\n",
       "        vertical-align: middle;\n",
       "    }\n",
       "\n",
       "    .dataframe tbody tr th {\n",
       "        vertical-align: top;\n",
       "    }\n",
       "\n",
       "    .dataframe thead th {\n",
       "        text-align: right;\n",
       "    }\n",
       "</style>\n",
       "<table border=\"1\" class=\"dataframe\">\n",
       "  <thead>\n",
       "    <tr style=\"text-align: right;\">\n",
       "      <th></th>\n",
       "      <th>Pred</th>\n",
       "      <th>Truth</th>\n",
       "      <th>Conv</th>\n",
       "    </tr>\n",
       "  </thead>\n",
       "  <tbody>\n",
       "    <tr>\n",
       "      <th>0</th>\n",
       "      <td>brass</td>\n",
       "      <td>brass</td>\n",
       "      <td>1</td>\n",
       "    </tr>\n",
       "    <tr>\n",
       "      <th>1</th>\n",
       "      <td>grissom</td>\n",
       "      <td>grissom</td>\n",
       "      <td>1</td>\n",
       "    </tr>\n",
       "    <tr>\n",
       "      <th>2</th>\n",
       "      <td>davidphillips</td>\n",
       "      <td>davidphillips</td>\n",
       "      <td>10</td>\n",
       "    </tr>\n",
       "    <tr>\n",
       "      <th>3</th>\n",
       "      <td>nick</td>\n",
       "      <td>nick</td>\n",
       "      <td>10</td>\n",
       "    </tr>\n",
       "    <tr>\n",
       "      <th>4</th>\n",
       "      <td>sara</td>\n",
       "      <td>sara</td>\n",
       "      <td>10</td>\n",
       "    </tr>\n",
       "  </tbody>\n",
       "</table>\n",
       "</div>"
      ],
      "text/plain": [
       "            Pred          Truth Conv\n",
       "0          brass          brass    1\n",
       "1        grissom        grissom    1\n",
       "2  davidphillips  davidphillips   10\n",
       "3           nick           nick   10\n",
       "4           sara           sara   10"
      ]
     },
     "execution_count": 10,
     "metadata": {},
     "output_type": "execute_result"
    }
   ],
   "source": [
    "winners = get_pred_speakers(pred)\n",
    "winners.head()"
   ]
  },
  {
   "cell_type": "markdown",
   "metadata": {},
   "source": [
    "Re-compute the speaker accuracy:"
   ]
  },
  {
   "cell_type": "code",
   "execution_count": 11,
   "metadata": {},
   "outputs": [
    {
     "data": {
      "text/plain": [
       "0.8943089430894309"
      ]
     },
     "execution_count": 11,
     "metadata": {},
     "output_type": "execute_result"
    }
   ],
   "source": [
    "speaker_accuracy(winners)"
   ]
  },
  {
   "cell_type": "markdown",
   "metadata": {},
   "source": [
    "And plot the predicted network:"
   ]
  },
  {
   "cell_type": "code",
   "execution_count": 12,
   "metadata": {},
   "outputs": [
    {
     "data": {
      "text/html": [
       "\n",
       "        <iframe\n",
       "            width=\"100%\"\n",
       "            height=\"500px\"\n",
       "            src=\"src/generated_graph/s02e04/pred.html\"\n",
       "            frameborder=\"0\"\n",
       "            allowfullscreen\n",
       "        ></iframe>\n",
       "        "
      ],
      "text/plain": [
       "<IPython.lib.display.IFrame at 0x7fa77c3a03c8>"
      ]
     },
     "execution_count": 12,
     "metadata": {},
     "output_type": "execute_result"
    }
   ],
   "source": [
    "G_pred, plot_pred = build_graph(winners, \"Conv\", \"Pred\", \"pred\", episode, spk_coord)\n",
    "plot_pred"
   ]
  },
  {
   "cell_type": "markdown",
   "metadata": {},
   "source": [
    "# III. Improving Speaker Identification using Network Knowledge"
   ]
  },
  {
   "cell_type": "markdown",
   "metadata": {},
   "source": [
    "We need 2 datasets again, one to build the list of all candidates, and another one to keep all the candidates from pred above a given threshold:"
   ]
  },
  {
   "cell_type": "code",
   "execution_count": 13,
   "metadata": {},
   "outputs": [
    {
     "data": {
      "text/html": [
       "<div>\n",
       "<style scoped>\n",
       "    .dataframe tbody tr th:only-of-type {\n",
       "        vertical-align: middle;\n",
       "    }\n",
       "\n",
       "    .dataframe tbody tr th {\n",
       "        vertical-align: top;\n",
       "    }\n",
       "\n",
       "    .dataframe thead th {\n",
       "        text-align: right;\n",
       "    }\n",
       "</style>\n",
       "<table border=\"1\" class=\"dataframe\">\n",
       "  <thead>\n",
       "    <tr style=\"text-align: right;\">\n",
       "      <th></th>\n",
       "      <th>Conv</th>\n",
       "      <th>NumChar</th>\n",
       "      <th>Conversation</th>\n",
       "      <th>Truth</th>\n",
       "      <th>Candidate</th>\n",
       "      <th>Score</th>\n",
       "    </tr>\n",
       "  </thead>\n",
       "  <tbody>\n",
       "    <tr>\n",
       "      <th>0</th>\n",
       "      <td>1</td>\n",
       "      <td>2</td>\n",
       "      <td>1_brass</td>\n",
       "      <td>[brass, grissom]</td>\n",
       "      <td>[mrfram, detoriley, davidphillips, robbins, ke...</td>\n",
       "      <td>[-38.86657, -1.792155, -39.43423, -10.19601, -...</td>\n",
       "    </tr>\n",
       "    <tr>\n",
       "      <th>19</th>\n",
       "      <td>3</td>\n",
       "      <td>1</td>\n",
       "      <td>3_catherine</td>\n",
       "      <td>[catherine]</td>\n",
       "      <td>[mrfram, detoriley, davidphillips, kelseyfram,...</td>\n",
       "      <td>[-31.42015, -39.27356, -12.85153, 0.5060293, -...</td>\n",
       "    </tr>\n",
       "    <tr>\n",
       "      <th>29</th>\n",
       "      <td>4</td>\n",
       "      <td>2</td>\n",
       "      <td>4_catherine</td>\n",
       "      <td>[catherine, warrick]</td>\n",
       "      <td>[dennisfram, juliabarett, sara, catherine, mrf...</td>\n",
       "      <td>[-17.69169, -35.99288, -6.885671, -3.342968, -...</td>\n",
       "    </tr>\n",
       "    <tr>\n",
       "      <th>39</th>\n",
       "      <td>5</td>\n",
       "      <td>2</td>\n",
       "      <td>5_brass</td>\n",
       "      <td>[brass, grissom]</td>\n",
       "      <td>[mrfram, detoriley, davidphillips, robbins, ke...</td>\n",
       "      <td>[-29.53336, -2.869998, -14.53197, 10.6197, -9....</td>\n",
       "    </tr>\n",
       "    <tr>\n",
       "      <th>49</th>\n",
       "      <td>6</td>\n",
       "      <td>2</td>\n",
       "      <td>6_brass</td>\n",
       "      <td>[brass, grissom]</td>\n",
       "      <td>[detoriley, davidphillips, robbins, kelseyfram...</td>\n",
       "      <td>[6.379692, -32.67316, 0.4403149, -19.31599, -3...</td>\n",
       "    </tr>\n",
       "  </tbody>\n",
       "</table>\n",
       "</div>"
      ],
      "text/plain": [
       "    Conv  NumChar Conversation                 Truth  \\\n",
       "0      1        2      1_brass      [brass, grissom]   \n",
       "19     3        1  3_catherine           [catherine]   \n",
       "29     4        2  4_catherine  [catherine, warrick]   \n",
       "39     5        2      5_brass      [brass, grissom]   \n",
       "49     6        2      6_brass      [brass, grissom]   \n",
       "\n",
       "                                            Candidate  \\\n",
       "0   [mrfram, detoriley, davidphillips, robbins, ke...   \n",
       "19  [mrfram, detoriley, davidphillips, kelseyfram,...   \n",
       "29  [dennisfram, juliabarett, sara, catherine, mrf...   \n",
       "39  [mrfram, detoriley, davidphillips, robbins, ke...   \n",
       "49  [detoriley, davidphillips, robbins, kelseyfram...   \n",
       "\n",
       "                                                Score  \n",
       "0   [-38.86657, -1.792155, -39.43423, -10.19601, -...  \n",
       "19  [-31.42015, -39.27356, -12.85153, 0.5060293, -...  \n",
       "29  [-17.69169, -35.99288, -6.885671, -3.342968, -...  \n",
       "39  [-29.53336, -2.869998, -14.53197, 10.6197, -9....  \n",
       "49  [6.379692, -32.67316, 0.4403149, -19.31599, -3...  "
      ]
     },
     "execution_count": 13,
     "metadata": {},
     "output_type": "execute_result"
    }
   ],
   "source": [
    "cand = build_candidates(pred)\n",
    "cand.head()"
   ]
  },
  {
   "cell_type": "code",
   "execution_count": 14,
   "metadata": {},
   "outputs": [
    {
     "name": "stderr",
     "output_type": "stream",
     "text": [
      "/Users/maelfabien/Graph2Speak/src/utils.py:642: SettingWithCopyWarning: \n",
      "A value is trying to be set on a copy of a slice from a DataFrame.\n",
      "Try using .loc[row_indexer,col_indexer] = value instead\n",
      "\n",
      "See the caveats in the documentation: https://pandas.pydata.org/pandas-docs/stable/user_guide/indexing.html#returning-a-view-versus-a-copy\n",
      "  score_sup[\"Conv\"] = score_sup[\"Conv\"].astype(int)\n"
     ]
    },
    {
     "data": {
      "text/html": [
       "<div>\n",
       "<style scoped>\n",
       "    .dataframe tbody tr th:only-of-type {\n",
       "        vertical-align: middle;\n",
       "    }\n",
       "\n",
       "    .dataframe tbody tr th {\n",
       "        vertical-align: top;\n",
       "    }\n",
       "\n",
       "    .dataframe thead th {\n",
       "        text-align: right;\n",
       "    }\n",
       "</style>\n",
       "<table border=\"1\" class=\"dataframe\">\n",
       "  <thead>\n",
       "    <tr style=\"text-align: right;\">\n",
       "      <th></th>\n",
       "      <th>Model</th>\n",
       "      <th>File</th>\n",
       "      <th>Truth</th>\n",
       "      <th>Conv</th>\n",
       "      <th>Score</th>\n",
       "    </tr>\n",
       "  </thead>\n",
       "  <tbody>\n",
       "    <tr>\n",
       "      <th>0</th>\n",
       "      <td>detoriley</td>\n",
       "      <td>brass_Conv1</td>\n",
       "      <td>brass</td>\n",
       "      <td>1</td>\n",
       "      <td>-1.792155</td>\n",
       "    </tr>\n",
       "    <tr>\n",
       "      <th>1</th>\n",
       "      <td>robbins</td>\n",
       "      <td>brass_Conv1</td>\n",
       "      <td>brass</td>\n",
       "      <td>1</td>\n",
       "      <td>-10.196010</td>\n",
       "    </tr>\n",
       "    <tr>\n",
       "      <th>2</th>\n",
       "      <td>nick</td>\n",
       "      <td>brass_Conv1</td>\n",
       "      <td>brass</td>\n",
       "      <td>1</td>\n",
       "      <td>-14.215310</td>\n",
       "    </tr>\n",
       "    <tr>\n",
       "      <th>3</th>\n",
       "      <td>brass</td>\n",
       "      <td>brass_Conv1</td>\n",
       "      <td>brass</td>\n",
       "      <td>1</td>\n",
       "      <td>66.674320</td>\n",
       "    </tr>\n",
       "    <tr>\n",
       "      <th>4</th>\n",
       "      <td>grissom</td>\n",
       "      <td>brass_Conv1</td>\n",
       "      <td>brass</td>\n",
       "      <td>1</td>\n",
       "      <td>11.073210</td>\n",
       "    </tr>\n",
       "  </tbody>\n",
       "</table>\n",
       "</div>"
      ],
      "text/plain": [
       "       Model         File  Truth  Conv      Score\n",
       "0  detoriley  brass_Conv1  brass     1  -1.792155\n",
       "1    robbins  brass_Conv1  brass     1 -10.196010\n",
       "2       nick  brass_Conv1  brass     1 -14.215310\n",
       "3      brass  brass_Conv1  brass     1  66.674320\n",
       "4    grissom  brass_Conv1  brass     1  11.073210"
      ]
     },
     "execution_count": 14,
     "metadata": {},
     "output_type": "execute_result"
    }
   ],
   "source": [
    "score_sup = keep_higher_scores(pred, threshold=-15)\n",
    "score_sup.head()"
   ]
  },
  {
   "cell_type": "code",
   "execution_count": 15,
   "metadata": {
    "scrolled": true
   },
   "outputs": [
    {
     "name": "stdout",
     "output_type": "stream",
     "text": [
      "Conversation 1 out of 58\n",
      "Conversation 3 out of 58\n",
      "Conversation 4 out of 58\n",
      "Conversation 5 out of 58\n",
      "Conversation 6 out of 58\n",
      "Conversation 7 out of 58\n",
      "Conversation 8 out of 58\n",
      "Conversation 9 out of 58\n",
      "Conversation 10 out of 58\n",
      "Conversation 11 out of 58\n",
      "Conversation 12 out of 58\n",
      "Conversation 13 out of 58\n",
      "Conversation 14 out of 58\n",
      "Conversation 15 out of 58\n",
      "Conversation 16 out of 58\n",
      "Conversation 17 out of 58\n",
      "Conversation 18 out of 58\n",
      "Conversation 19 out of 58\n",
      "Conversation 21 out of 58\n",
      "Conversation 22 out of 58\n",
      "Conversation 23 out of 58\n",
      "Conversation 24 out of 58\n",
      "Conversation 25 out of 58\n",
      "Conversation 26 out of 58\n",
      "Conversation 27 out of 58\n",
      "Conversation 28 out of 58\n",
      "Conversation 31 out of 58\n",
      "Conversation 32 out of 58\n",
      "Conversation 33 out of 58\n",
      "Conversation 34 out of 58\n",
      "Conversation 35 out of 58\n",
      "Conversation 36 out of 58\n",
      "Conversation 37 out of 58\n",
      "Conversation 38 out of 58\n",
      "Conversation 39 out of 58\n",
      "Conversation 40 out of 58\n",
      "Conversation 41 out of 58\n",
      "Conversation 42 out of 58\n",
      "Conversation 43 out of 58\n",
      "Conversation 44 out of 58\n",
      "Conversation 46 out of 58\n",
      "Conversation 47 out of 58\n",
      "Conversation 48 out of 58\n",
      "Conversation 49 out of 58\n",
      "Conversation 50 out of 58\n",
      "Conversation 51 out of 58\n",
      "Conversation 53 out of 58\n",
      "Conversation 54 out of 58\n",
      "Conversation 55 out of 58\n",
      "Conversation 56 out of 58\n",
      "Conversation 57 out of 58\n",
      "Conversation 58 out of 58\n"
     ]
    }
   ],
   "source": [
    "df_res, G_rank, trace_conv = rerank_graph(score_sup, winners, cand, dict_len, threshold=-15)"
   ]
  },
  {
   "cell_type": "markdown",
   "metadata": {},
   "source": [
    "Where are predictions different?"
   ]
  },
  {
   "cell_type": "code",
   "execution_count": 22,
   "metadata": {
    "scrolled": true
   },
   "outputs": [
    {
     "data": {
      "text/html": [
       "<div>\n",
       "<style scoped>\n",
       "    .dataframe tbody tr th:only-of-type {\n",
       "        vertical-align: middle;\n",
       "    }\n",
       "\n",
       "    .dataframe tbody tr th {\n",
       "        vertical-align: top;\n",
       "    }\n",
       "\n",
       "    .dataframe thead th {\n",
       "        text-align: right;\n",
       "    }\n",
       "</style>\n",
       "<table border=\"1\" class=\"dataframe\">\n",
       "  <thead>\n",
       "    <tr style=\"text-align: right;\">\n",
       "      <th></th>\n",
       "      <th>Conv</th>\n",
       "      <th>GaphEnhance</th>\n",
       "      <th>Truth</th>\n",
       "      <th>Prediction</th>\n",
       "    </tr>\n",
       "  </thead>\n",
       "  <tbody>\n",
       "    <tr>\n",
       "      <th>15</th>\n",
       "      <td>17</td>\n",
       "      <td>[brass, juliabarett, kelseyfram]</td>\n",
       "      <td>[brass, dennisfram, grissom, juliabarett, kels...</td>\n",
       "      <td>[brass, juliabarett, kelseyfram, kelseyfram, w...</td>\n",
       "    </tr>\n",
       "    <tr>\n",
       "      <th>17</th>\n",
       "      <td>19</td>\n",
       "      <td>[grissom, nick, nick]</td>\n",
       "      <td>[grissom, nick, sara]</td>\n",
       "      <td>[nick, nick, robbins]</td>\n",
       "    </tr>\n",
       "  </tbody>\n",
       "</table>\n",
       "</div>"
      ],
      "text/plain": [
       "   Conv                       GaphEnhance  \\\n",
       "15   17  [brass, juliabarett, kelseyfram]   \n",
       "17   19             [grissom, nick, nick]   \n",
       "\n",
       "                                                Truth  \\\n",
       "15  [brass, dennisfram, grissom, juliabarett, kels...   \n",
       "17                              [grissom, nick, sara]   \n",
       "\n",
       "                                           Prediction  \n",
       "15  [brass, juliabarett, kelseyfram, kelseyfram, w...  \n",
       "17                              [nick, nick, robbins]  "
      ]
     },
     "execution_count": 22,
     "metadata": {},
     "output_type": "execute_result"
    }
   ],
   "source": [
    "df_res[df_res['GaphEnhance'] != df_res['Prediction']]"
   ]
  },
  {
   "cell_type": "markdown",
   "metadata": {},
   "source": [
    "### Conversation accuracy"
   ]
  },
  {
   "cell_type": "code",
   "execution_count": 23,
   "metadata": {},
   "outputs": [
    {
     "data": {
      "text/plain": [
       "0.7884615384615384"
      ]
     },
     "execution_count": 23,
     "metadata": {},
     "output_type": "execute_result"
    }
   ],
   "source": [
    "conversation_accuracy(df_res, \"Prediction\")"
   ]
  },
  {
   "cell_type": "code",
   "execution_count": 24,
   "metadata": {},
   "outputs": [
    {
     "data": {
      "text/plain": [
       "0.7884615384615384"
      ]
     },
     "execution_count": 24,
     "metadata": {},
     "output_type": "execute_result"
    }
   ],
   "source": [
    "conversation_accuracy(df_res, \"GaphEnhance\")"
   ]
  },
  {
   "cell_type": "markdown",
   "metadata": {},
   "source": [
    "### Speaker accuracy"
   ]
  },
  {
   "cell_type": "code",
   "execution_count": 25,
   "metadata": {},
   "outputs": [
    {
     "data": {
      "text/plain": [
       "0.8934426229508197"
      ]
     },
     "execution_count": 25,
     "metadata": {},
     "output_type": "execute_result"
    }
   ],
   "source": [
    "final_speaker_accuracy(df_res, \"Prediction\")"
   ]
  },
  {
   "cell_type": "code",
   "execution_count": 26,
   "metadata": {},
   "outputs": [
    {
     "data": {
      "text/plain": [
       "0.9016393442622951"
      ]
     },
     "execution_count": 26,
     "metadata": {},
     "output_type": "execute_result"
    }
   ],
   "source": [
    "final_speaker_accuracy(df_res, \"GaphEnhance\")"
   ]
  },
  {
   "cell_type": "markdown",
   "metadata": {},
   "source": [
    "### Final Network"
   ]
  },
  {
   "cell_type": "code",
   "execution_count": 21,
   "metadata": {
    "scrolled": false
   },
   "outputs": [
    {
     "data": {
      "text/html": [
       "\n",
       "        <iframe\n",
       "            width=\"100%\"\n",
       "            height=\"500px\"\n",
       "            src=\"src/generated_graph/s02e04/rerank.html\"\n",
       "            frameborder=\"0\"\n",
       "            allowfullscreen\n",
       "        ></iframe>\n",
       "        "
      ],
      "text/plain": [
       "<IPython.lib.display.IFrame at 0x7fa77ce2d518>"
      ]
     },
     "execution_count": 21,
     "metadata": {},
     "output_type": "execute_result"
    }
   ],
   "source": [
    "plot_rank = final_graph(G_rank, trace_conv, episode, spk_coord)\n",
    "plot_rank"
   ]
  }
 ],
 "metadata": {
  "kernelspec": {
   "display_name": "Python 3",
   "language": "python",
   "name": "python3"
  },
  "language_info": {
   "codemirror_mode": {
    "name": "ipython",
    "version": 3
   },
   "file_extension": ".py",
   "mimetype": "text/x-python",
   "name": "python",
   "nbconvert_exporter": "python",
   "pygments_lexer": "ipython3",
   "version": "3.7.3"
  }
 },
 "nbformat": 4,
 "nbformat_minor": 2
}
