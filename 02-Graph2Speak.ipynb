{
 "cells": [
  {
   "cell_type": "markdown",
   "metadata": {},
   "source": [
    "<center><h1 style=\"font-size:3em\"> Graph2Speak </h1></center>\n",
    "<center><h3> Improving Speaker Identification using Network Knowledge in Criminal Conversational Data </h3><center>"
   ]
  },
  {
   "cell_type": "markdown",
   "metadata": {},
   "source": [
    "Paper: https://arxiv.org/abs/2006.02093\n",
    "\n",
    "*Maël Fabien, Seyyed Saeed Sarfjoo, Petr Motlicek, Srikanth Madikeri*"
   ]
  },
  {
   "cell_type": "code",
   "execution_count": 1,
   "metadata": {},
   "outputs": [],
   "source": [
    "# General\n",
    "import numpy as np\n",
    "import pandas as pd\n",
    "import matplotlib.pyplot as plt\n",
    "\n",
    "# Set of functions\n",
    "from src.utils import *"
   ]
  },
  {
   "cell_type": "code",
   "execution_count": 2,
   "metadata": {},
   "outputs": [],
   "source": [
    "episode = \"s02e06\""
   ]
  },
  {
   "cell_type": "code",
   "execution_count": 3,
   "metadata": {
    "scrolled": true
   },
   "outputs": [
    {
     "data": {
      "text/plain": [
       "({'roger': '1001_csi',\n",
       "  'robinchilds': '1002_csi',\n",
       "  'rogerjennings': '1003_csi',\n",
       "  'sgtoriley': '1004_csi',\n",
       "  'kimmarita': '1005_csi',\n",
       "  'tinakolas': '1006_csi',\n",
       "  'robbins': '1007_csi',\n",
       "  'benjaminjennings': '1008_csi',\n",
       "  'warrick': '1009_csi',\n",
       "  'brass': '1010_csi',\n",
       "  'fatherpowell': '1011_csi',\n",
       "  'nick': '1012_csi',\n",
       "  'sara': '1013_csi',\n",
       "  'catherine': '1014_csi',\n",
       "  'grissom': '1015_csi'},\n",
       " {'1001_csi': 'roger',\n",
       "  '1002_csi': 'robinchilds',\n",
       "  '1003_csi': 'rogerjennings',\n",
       "  '1004_csi': 'sgtoriley',\n",
       "  '1005_csi': 'kimmarita',\n",
       "  '1006_csi': 'tinakolas',\n",
       "  '1007_csi': 'robbins',\n",
       "  '1008_csi': 'benjaminjennings',\n",
       "  '1009_csi': 'warrick',\n",
       "  '1010_csi': 'brass',\n",
       "  '1011_csi': 'fatherpowell',\n",
       "  '1012_csi': 'nick',\n",
       "  '1013_csi': 'sara',\n",
       "  '1014_csi': 'catherine',\n",
       "  '1015_csi': 'grissom'},\n",
       " {'roger': [50, 50],\n",
       "  'robinchilds': [50, 100],\n",
       "  'rogerjennings': [50, 150],\n",
       "  'sgtoriley': [100, 50],\n",
       "  'kimmarita': [100, 100],\n",
       "  'tinakolas': [100, 150],\n",
       "  'robbins': [150, 50],\n",
       "  'benjaminjennings': [150, 100],\n",
       "  'warrick': [150, 150],\n",
       "  'brass': [200, 50],\n",
       "  'fatherpowell': [200, 100],\n",
       "  'nick': [200, 150],\n",
       "  'sara': [300, 50],\n",
       "  'catherine': [300, 100],\n",
       "  'grissom': [300, 150]})"
      ]
     },
     "execution_count": 3,
     "metadata": {},
     "output_type": "execute_result"
    }
   ],
   "source": [
    "dict_spk, spk_dict, spk_coord = ep_dicts(episode)\n",
    "dict_spk, spk_dict, spk_coord"
   ]
  },
  {
   "cell_type": "markdown",
   "metadata": {},
   "source": [
    "# I. Ground truth"
   ]
  },
  {
   "cell_type": "code",
   "execution_count": 4,
   "metadata": {},
   "outputs": [
    {
     "data": {
      "text/html": [
       "<div>\n",
       "<style scoped>\n",
       "    .dataframe tbody tr th:only-of-type {\n",
       "        vertical-align: middle;\n",
       "    }\n",
       "\n",
       "    .dataframe tbody tr th {\n",
       "        vertical-align: top;\n",
       "    }\n",
       "\n",
       "    .dataframe thead th {\n",
       "        text-align: right;\n",
       "    }\n",
       "</style>\n",
       "<table border=\"1\" class=\"dataframe\">\n",
       "  <thead>\n",
       "    <tr style=\"text-align: right;\">\n",
       "      <th></th>\n",
       "      <th>speaker</th>\n",
       "      <th>conv</th>\n",
       "    </tr>\n",
       "  </thead>\n",
       "  <tbody>\n",
       "    <tr>\n",
       "      <th>0</th>\n",
       "      <td>benjaminjennings</td>\n",
       "      <td>0.0</td>\n",
       "    </tr>\n",
       "    <tr>\n",
       "      <th>2</th>\n",
       "      <td>grissom</td>\n",
       "      <td>1.0</td>\n",
       "    </tr>\n",
       "    <tr>\n",
       "      <th>7</th>\n",
       "      <td>sgt_oriley</td>\n",
       "      <td>1.0</td>\n",
       "    </tr>\n",
       "    <tr>\n",
       "      <th>12</th>\n",
       "      <td>nick</td>\n",
       "      <td>2.0</td>\n",
       "    </tr>\n",
       "    <tr>\n",
       "      <th>29</th>\n",
       "      <td>grissom</td>\n",
       "      <td>2.0</td>\n",
       "    </tr>\n",
       "  </tbody>\n",
       "</table>\n",
       "</div>"
      ],
      "text/plain": [
       "             speaker  conv\n",
       "0   benjaminjennings   0.0\n",
       "2            grissom   1.0\n",
       "7         sgt_oriley   1.0\n",
       "12              nick   2.0\n",
       "29           grissom   2.0"
      ]
     },
     "execution_count": 4,
     "metadata": {},
     "output_type": "execute_result"
    }
   ],
   "source": [
    "truth_events = pd.read_csv(\"src/graph_input/all_events_%s.csv\"%episode)\n",
    "truth_events = truth_events[['speaker', 'conv']].drop_duplicates().dropna()\n",
    "truth_events['speaker'] = truth_events['speaker'].apply(lambda x: x.replace(\"/\", \"\").replace(\".\", \"\").replace(\"'\", \"\"))\n",
    "truth_events.head()"
   ]
  },
  {
   "cell_type": "code",
   "execution_count": 5,
   "metadata": {},
   "outputs": [],
   "source": [
    "f = open(\"src/speaker_id_input/%s.txt\"%episode, \"r\")\n",
    "list_spk_keep = []\n",
    "\n",
    "for line in f:\n",
    "    list_spk_keep.append(line.replace(\"\\n\", \"\").replace(\".\", \"\").replace(\"'\", \"\"))"
   ]
  },
  {
   "cell_type": "code",
   "execution_count": 6,
   "metadata": {},
   "outputs": [],
   "source": [
    "truth_events = truth_events[truth_events['speaker'].isin(list_spk_keep)]"
   ]
  },
  {
   "cell_type": "code",
   "execution_count": 7,
   "metadata": {},
   "outputs": [
    {
     "data": {
      "text/html": [
       "\n",
       "        <iframe\n",
       "            width=\"100%\"\n",
       "            height=\"500px\"\n",
       "            src=\"src/generated_graph/s02e06/truth.html\"\n",
       "            frameborder=\"0\"\n",
       "            allowfullscreen\n",
       "        ></iframe>\n",
       "        "
      ],
      "text/plain": [
       "<IPython.lib.display.IFrame at 0x7feb01788668>"
      ]
     },
     "execution_count": 7,
     "metadata": {},
     "output_type": "execute_result"
    }
   ],
   "source": [
    "G, plot = build_graph(truth_events, \"conv\", \"speaker\", \"truth\", episode, spk_coord)\n",
    "plot"
   ]
  },
  {
   "cell_type": "markdown",
   "metadata": {},
   "source": [
    "# II. Speaker ID Prediction"
   ]
  },
  {
   "cell_type": "markdown",
   "metadata": {},
   "source": [
    "Benchmark performance from Kaldi:"
   ]
  },
  {
   "cell_type": "code",
   "execution_count": 8,
   "metadata": {},
   "outputs": [],
   "source": [
    "perf_s01e07 = 0.916\n",
    "perf_s01e08 = 0.919\n",
    "perf_s01e19 = 0.579\n",
    "perf_s01e20 = 0.746\n",
    "perf_s01e23 = 0.686\n",
    "perf_s02e01 = 0.880\n",
    "perf_s02e04 = 0.894\n",
    "perf_s02e06 = 0.855"
   ]
  },
  {
   "cell_type": "markdown",
   "metadata": {},
   "source": [
    "We need 2 dataframes here, a summary of all of the scores of all speaker against each file, and another file of who has the maximum score, corresponding to the prediction of Speaker Id:"
   ]
  },
  {
   "cell_type": "code",
   "execution_count": 9,
   "metadata": {},
   "outputs": [
    {
     "data": {
      "text/html": [
       "<div>\n",
       "<style scoped>\n",
       "    .dataframe tbody tr th:only-of-type {\n",
       "        vertical-align: middle;\n",
       "    }\n",
       "\n",
       "    .dataframe tbody tr th {\n",
       "        vertical-align: top;\n",
       "    }\n",
       "\n",
       "    .dataframe thead th {\n",
       "        text-align: right;\n",
       "    }\n",
       "</style>\n",
       "<table border=\"1\" class=\"dataframe\">\n",
       "  <thead>\n",
       "    <tr style=\"text-align: right;\">\n",
       "      <th></th>\n",
       "      <th>Model</th>\n",
       "      <th>File</th>\n",
       "      <th>Truth</th>\n",
       "      <th>Conv</th>\n",
       "      <th>Score</th>\n",
       "    </tr>\n",
       "  </thead>\n",
       "  <tbody>\n",
       "    <tr>\n",
       "      <th>0</th>\n",
       "      <td>roger</td>\n",
       "      <td>benjaminjennings_Conv0</td>\n",
       "      <td>benjaminjennings</td>\n",
       "      <td>0</td>\n",
       "      <td>1.871236</td>\n",
       "    </tr>\n",
       "    <tr>\n",
       "      <th>124</th>\n",
       "      <td>robinchilds</td>\n",
       "      <td>benjaminjennings_Conv0</td>\n",
       "      <td>benjaminjennings</td>\n",
       "      <td>0</td>\n",
       "      <td>-18.375310</td>\n",
       "    </tr>\n",
       "    <tr>\n",
       "      <th>248</th>\n",
       "      <td>rogerjennings</td>\n",
       "      <td>benjaminjennings_Conv0</td>\n",
       "      <td>benjaminjennings</td>\n",
       "      <td>0</td>\n",
       "      <td>-0.110526</td>\n",
       "    </tr>\n",
       "    <tr>\n",
       "      <th>372</th>\n",
       "      <td>sgtoriley</td>\n",
       "      <td>benjaminjennings_Conv0</td>\n",
       "      <td>benjaminjennings</td>\n",
       "      <td>0</td>\n",
       "      <td>-27.050180</td>\n",
       "    </tr>\n",
       "    <tr>\n",
       "      <th>496</th>\n",
       "      <td>kimmarita</td>\n",
       "      <td>benjaminjennings_Conv0</td>\n",
       "      <td>benjaminjennings</td>\n",
       "      <td>0</td>\n",
       "      <td>-35.713990</td>\n",
       "    </tr>\n",
       "  </tbody>\n",
       "</table>\n",
       "</div>"
      ],
      "text/plain": [
       "             Model                    File             Truth Conv      Score\n",
       "0            roger  benjaminjennings_Conv0  benjaminjennings    0   1.871236\n",
       "124    robinchilds  benjaminjennings_Conv0  benjaminjennings    0 -18.375310\n",
       "248  rogerjennings  benjaminjennings_Conv0  benjaminjennings    0  -0.110526\n",
       "372      sgtoriley  benjaminjennings_Conv0  benjaminjennings    0 -27.050180\n",
       "496      kimmarita  benjaminjennings_Conv0  benjaminjennings    0 -35.713990"
      ]
     },
     "execution_count": 9,
     "metadata": {},
     "output_type": "execute_result"
    }
   ],
   "source": [
    "pred = get_all_pred_scores(\"src/speaker_id_output/scores_%s/csi_test_unique_scores\"%episode, spk_dict)\n",
    "pred.head()"
   ]
  },
  {
   "cell_type": "code",
   "execution_count": 10,
   "metadata": {},
   "outputs": [
    {
     "data": {
      "text/html": [
       "<div>\n",
       "<style scoped>\n",
       "    .dataframe tbody tr th:only-of-type {\n",
       "        vertical-align: middle;\n",
       "    }\n",
       "\n",
       "    .dataframe tbody tr th {\n",
       "        vertical-align: top;\n",
       "    }\n",
       "\n",
       "    .dataframe thead th {\n",
       "        text-align: right;\n",
       "    }\n",
       "</style>\n",
       "<table border=\"1\" class=\"dataframe\">\n",
       "  <thead>\n",
       "    <tr style=\"text-align: right;\">\n",
       "      <th></th>\n",
       "      <th>Pred</th>\n",
       "      <th>Truth</th>\n",
       "      <th>Conv</th>\n",
       "    </tr>\n",
       "  </thead>\n",
       "  <tbody>\n",
       "    <tr>\n",
       "      <th>0</th>\n",
       "      <td>roger</td>\n",
       "      <td>benjaminjennings</td>\n",
       "      <td>0</td>\n",
       "    </tr>\n",
       "    <tr>\n",
       "      <th>1</th>\n",
       "      <td>grissom</td>\n",
       "      <td>grissom</td>\n",
       "      <td>1</td>\n",
       "    </tr>\n",
       "    <tr>\n",
       "      <th>2</th>\n",
       "      <td>sgtoriley</td>\n",
       "      <td>sgtoriley</td>\n",
       "      <td>1</td>\n",
       "    </tr>\n",
       "    <tr>\n",
       "      <th>3</th>\n",
       "      <td>catherine</td>\n",
       "      <td>catherine</td>\n",
       "      <td>10</td>\n",
       "    </tr>\n",
       "    <tr>\n",
       "      <th>4</th>\n",
       "      <td>kimmarita</td>\n",
       "      <td>kimmarita</td>\n",
       "      <td>10</td>\n",
       "    </tr>\n",
       "  </tbody>\n",
       "</table>\n",
       "</div>"
      ],
      "text/plain": [
       "        Pred             Truth Conv\n",
       "0      roger  benjaminjennings    0\n",
       "1    grissom           grissom    1\n",
       "2  sgtoriley         sgtoriley    1\n",
       "3  catherine         catherine   10\n",
       "4  kimmarita         kimmarita   10"
      ]
     },
     "execution_count": 10,
     "metadata": {},
     "output_type": "execute_result"
    }
   ],
   "source": [
    "winners = get_pred_speakers(pred)\n",
    "winners.head()"
   ]
  },
  {
   "cell_type": "markdown",
   "metadata": {},
   "source": [
    "Re-compute the speaker accuracy:"
   ]
  },
  {
   "cell_type": "code",
   "execution_count": 11,
   "metadata": {},
   "outputs": [
    {
     "data": {
      "text/plain": [
       "0.8548387096774194"
      ]
     },
     "execution_count": 11,
     "metadata": {},
     "output_type": "execute_result"
    }
   ],
   "source": [
    "speaker_accuracy(winners)"
   ]
  },
  {
   "cell_type": "markdown",
   "metadata": {},
   "source": [
    "And plot the predicted network:"
   ]
  },
  {
   "cell_type": "code",
   "execution_count": 12,
   "metadata": {},
   "outputs": [
    {
     "data": {
      "text/html": [
       "\n",
       "        <iframe\n",
       "            width=\"100%\"\n",
       "            height=\"500px\"\n",
       "            src=\"src/generated_graph/s02e06/pred.html\"\n",
       "            frameborder=\"0\"\n",
       "            allowfullscreen\n",
       "        ></iframe>\n",
       "        "
      ],
      "text/plain": [
       "<IPython.lib.display.IFrame at 0x7feb0282e978>"
      ]
     },
     "execution_count": 12,
     "metadata": {},
     "output_type": "execute_result"
    }
   ],
   "source": [
    "G_pred, plot_pred = build_graph(winners, \"Conv\", \"Pred\", \"pred\", episode, spk_coord)\n",
    "plot_pred"
   ]
  },
  {
   "cell_type": "markdown",
   "metadata": {},
   "source": [
    "# III. Improving Speaker Identification using Network Knowledge"
   ]
  },
  {
   "cell_type": "markdown",
   "metadata": {},
   "source": [
    "We need 2 datasets again, one to build the list of all candidates, and another one to keep all the candidates from pred above a given threshold:"
   ]
  },
  {
   "cell_type": "code",
   "execution_count": 13,
   "metadata": {},
   "outputs": [
    {
     "data": {
      "text/html": [
       "<div>\n",
       "<style scoped>\n",
       "    .dataframe tbody tr th:only-of-type {\n",
       "        vertical-align: middle;\n",
       "    }\n",
       "\n",
       "    .dataframe tbody tr th {\n",
       "        vertical-align: top;\n",
       "    }\n",
       "\n",
       "    .dataframe thead th {\n",
       "        text-align: right;\n",
       "    }\n",
       "</style>\n",
       "<table border=\"1\" class=\"dataframe\">\n",
       "  <thead>\n",
       "    <tr style=\"text-align: right;\">\n",
       "      <th></th>\n",
       "      <th>Conv</th>\n",
       "      <th>NumChar</th>\n",
       "      <th>Conversation</th>\n",
       "      <th>Truth</th>\n",
       "      <th>Candidate</th>\n",
       "      <th>Score</th>\n",
       "    </tr>\n",
       "  </thead>\n",
       "  <tbody>\n",
       "    <tr>\n",
       "      <th>0</th>\n",
       "      <td>0</td>\n",
       "      <td>1</td>\n",
       "      <td>0_benjaminjennings</td>\n",
       "      <td>[benjaminjennings]</td>\n",
       "      <td>[roger, robinchilds, rogerjennings, sgtoriley,...</td>\n",
       "      <td>[1.871236, -18.37531, -0.1105263, -27.05018, -...</td>\n",
       "    </tr>\n",
       "    <tr>\n",
       "      <th>1</th>\n",
       "      <td>1</td>\n",
       "      <td>2</td>\n",
       "      <td>1_grissom</td>\n",
       "      <td>[grissom, sgtoriley]</td>\n",
       "      <td>[roger, robinchilds, rogerjennings, sgtoriley,...</td>\n",
       "      <td>[-12.563, -30.62826, -16.33519, -18.48514, -18...</td>\n",
       "    </tr>\n",
       "    <tr>\n",
       "      <th>12</th>\n",
       "      <td>2</td>\n",
       "      <td>2</td>\n",
       "      <td>2_grissom</td>\n",
       "      <td>[grissom, nick]</td>\n",
       "      <td>[roger, robinchilds, rogerjennings, sgtoriley,...</td>\n",
       "      <td>[-16.22852, -36.40934, -8.166042, -14.3365, -2...</td>\n",
       "    </tr>\n",
       "    <tr>\n",
       "      <th>31</th>\n",
       "      <td>4</td>\n",
       "      <td>3</td>\n",
       "      <td>4_grissom</td>\n",
       "      <td>[grissom, nick, sara]</td>\n",
       "      <td>[roger, robinchilds, rogerjennings, sgtoriley,...</td>\n",
       "      <td>[1.686985, -34.28004, -13.15392, 0.5959857, -2...</td>\n",
       "    </tr>\n",
       "    <tr>\n",
       "      <th>41</th>\n",
       "      <td>5</td>\n",
       "      <td>3</td>\n",
       "      <td>5_grissom</td>\n",
       "      <td>[grissom, nick, sara]</td>\n",
       "      <td>[roger, rogerjennings, sgtoriley, tinakolas, r...</td>\n",
       "      <td>[13.90878, -8.934477, 7.126632, -15.86177, 4.5...</td>\n",
       "    </tr>\n",
       "  </tbody>\n",
       "</table>\n",
       "</div>"
      ],
      "text/plain": [
       "    Conv  NumChar        Conversation                  Truth  \\\n",
       "0      0        1  0_benjaminjennings     [benjaminjennings]   \n",
       "1      1        2           1_grissom   [grissom, sgtoriley]   \n",
       "12     2        2           2_grissom        [grissom, nick]   \n",
       "31     4        3           4_grissom  [grissom, nick, sara]   \n",
       "41     5        3           5_grissom  [grissom, nick, sara]   \n",
       "\n",
       "                                            Candidate  \\\n",
       "0   [roger, robinchilds, rogerjennings, sgtoriley,...   \n",
       "1   [roger, robinchilds, rogerjennings, sgtoriley,...   \n",
       "12  [roger, robinchilds, rogerjennings, sgtoriley,...   \n",
       "31  [roger, robinchilds, rogerjennings, sgtoriley,...   \n",
       "41  [roger, rogerjennings, sgtoriley, tinakolas, r...   \n",
       "\n",
       "                                                Score  \n",
       "0   [1.871236, -18.37531, -0.1105263, -27.05018, -...  \n",
       "1   [-12.563, -30.62826, -16.33519, -18.48514, -18...  \n",
       "12  [-16.22852, -36.40934, -8.166042, -14.3365, -2...  \n",
       "31  [1.686985, -34.28004, -13.15392, 0.5959857, -2...  \n",
       "41  [13.90878, -8.934477, 7.126632, -15.86177, 4.5...  "
      ]
     },
     "execution_count": 13,
     "metadata": {},
     "output_type": "execute_result"
    }
   ],
   "source": [
    "cand = build_candidates(pred)\n",
    "cand.head()"
   ]
  },
  {
   "cell_type": "code",
   "execution_count": 14,
   "metadata": {},
   "outputs": [
    {
     "name": "stderr",
     "output_type": "stream",
     "text": [
      "/Users/maelfabien/Graph2Speak/src/utils.py:642: SettingWithCopyWarning: \n",
      "A value is trying to be set on a copy of a slice from a DataFrame.\n",
      "Try using .loc[row_indexer,col_indexer] = value instead\n",
      "\n",
      "See the caveats in the documentation: https://pandas.pydata.org/pandas-docs/stable/user_guide/indexing.html#returning-a-view-versus-a-copy\n",
      "  score_sup[\"Conv\"] = score_sup[\"Conv\"].astype(int)\n"
     ]
    },
    {
     "data": {
      "text/html": [
       "<div>\n",
       "<style scoped>\n",
       "    .dataframe tbody tr th:only-of-type {\n",
       "        vertical-align: middle;\n",
       "    }\n",
       "\n",
       "    .dataframe tbody tr th {\n",
       "        vertical-align: top;\n",
       "    }\n",
       "\n",
       "    .dataframe thead th {\n",
       "        text-align: right;\n",
       "    }\n",
       "</style>\n",
       "<table border=\"1\" class=\"dataframe\">\n",
       "  <thead>\n",
       "    <tr style=\"text-align: right;\">\n",
       "      <th></th>\n",
       "      <th>Model</th>\n",
       "      <th>File</th>\n",
       "      <th>Truth</th>\n",
       "      <th>Conv</th>\n",
       "      <th>Score</th>\n",
       "    </tr>\n",
       "  </thead>\n",
       "  <tbody>\n",
       "    <tr>\n",
       "      <th>0</th>\n",
       "      <td>roger</td>\n",
       "      <td>benjaminjennings_Conv0</td>\n",
       "      <td>benjaminjennings</td>\n",
       "      <td>0</td>\n",
       "      <td>1.871236</td>\n",
       "    </tr>\n",
       "    <tr>\n",
       "      <th>1</th>\n",
       "      <td>rogerjennings</td>\n",
       "      <td>benjaminjennings_Conv0</td>\n",
       "      <td>benjaminjennings</td>\n",
       "      <td>0</td>\n",
       "      <td>-0.110526</td>\n",
       "    </tr>\n",
       "    <tr>\n",
       "      <th>2</th>\n",
       "      <td>tinakolas</td>\n",
       "      <td>benjaminjennings_Conv0</td>\n",
       "      <td>benjaminjennings</td>\n",
       "      <td>0</td>\n",
       "      <td>-14.151230</td>\n",
       "    </tr>\n",
       "    <tr>\n",
       "      <th>3</th>\n",
       "      <td>brass</td>\n",
       "      <td>benjaminjennings_Conv0</td>\n",
       "      <td>benjaminjennings</td>\n",
       "      <td>0</td>\n",
       "      <td>-8.804805</td>\n",
       "    </tr>\n",
       "    <tr>\n",
       "      <th>4</th>\n",
       "      <td>sara</td>\n",
       "      <td>benjaminjennings_Conv0</td>\n",
       "      <td>benjaminjennings</td>\n",
       "      <td>0</td>\n",
       "      <td>-10.156190</td>\n",
       "    </tr>\n",
       "  </tbody>\n",
       "</table>\n",
       "</div>"
      ],
      "text/plain": [
       "           Model                    File             Truth  Conv      Score\n",
       "0          roger  benjaminjennings_Conv0  benjaminjennings     0   1.871236\n",
       "1  rogerjennings  benjaminjennings_Conv0  benjaminjennings     0  -0.110526\n",
       "2      tinakolas  benjaminjennings_Conv0  benjaminjennings     0 -14.151230\n",
       "3          brass  benjaminjennings_Conv0  benjaminjennings     0  -8.804805\n",
       "4           sara  benjaminjennings_Conv0  benjaminjennings     0 -10.156190"
      ]
     },
     "execution_count": 14,
     "metadata": {},
     "output_type": "execute_result"
    }
   ],
   "source": [
    "score_sup = keep_higher_scores(pred, threshold=-15)\n",
    "score_sup.head()"
   ]
  },
  {
   "cell_type": "code",
   "execution_count": 15,
   "metadata": {
    "scrolled": true
   },
   "outputs": [
    {
     "name": "stdout",
     "output_type": "stream",
     "text": [
      "Conversation 0 out of 58\n",
      "Conversation 1 out of 58\n",
      "Conversation 2 out of 58\n",
      "Conversation 4 out of 58\n",
      "Conversation 5 out of 58\n",
      "Conversation 6 out of 58\n",
      "Conversation 7 out of 58\n",
      "Conversation 8 out of 58\n",
      "Conversation 9 out of 58\n",
      "Conversation 10 out of 58\n",
      "Conversation 11 out of 58\n",
      "Conversation 12 out of 58\n",
      "Conversation 13 out of 58\n",
      "Conversation 14 out of 58\n",
      "Conversation 15 out of 58\n",
      "Conversation 16 out of 58\n",
      "Conversation 17 out of 58\n",
      "Conversation 18 out of 58\n",
      "Conversation 19 out of 58\n",
      "Conversation 20 out of 58\n",
      "Conversation 21 out of 58\n",
      "Conversation 22 out of 58\n",
      "Conversation 23 out of 58\n",
      "Conversation 24 out of 58\n",
      "Conversation 25 out of 58\n",
      "Conversation 26 out of 58\n",
      "Conversation 27 out of 58\n",
      "Conversation 28 out of 58\n",
      "Conversation 29 out of 58\n",
      "Conversation 30 out of 58\n",
      "Conversation 31 out of 58\n",
      "Conversation 32 out of 58\n",
      "Conversation 33 out of 58\n",
      "Conversation 34 out of 58\n",
      "Conversation 35 out of 58\n",
      "Conversation 36 out of 58\n",
      "Conversation 39 out of 58\n",
      "Conversation 40 out of 58\n",
      "Conversation 41 out of 58\n",
      "Conversation 42 out of 58\n",
      "Conversation 43 out of 58\n",
      "Conversation 44 out of 58\n",
      "Conversation 45 out of 58\n",
      "Conversation 46 out of 58\n",
      "Conversation 47 out of 58\n",
      "Conversation 48 out of 58\n",
      "Conversation 50 out of 58\n",
      "Conversation 51 out of 58\n",
      "Conversation 52 out of 58\n",
      "Conversation 53 out of 58\n",
      "Conversation 54 out of 58\n",
      "Conversation 55 out of 58\n",
      "Conversation 56 out of 58\n",
      "Conversation 57 out of 58\n",
      "Conversation 58 out of 58\n"
     ]
    }
   ],
   "source": [
    "df_res, G_rank, trace_conv = rerank_graph(score_sup, winners, cand, threshold=-15)"
   ]
  },
  {
   "cell_type": "markdown",
   "metadata": {},
   "source": [
    "Where are predictions different?"
   ]
  },
  {
   "cell_type": "code",
   "execution_count": 16,
   "metadata": {
    "scrolled": true
   },
   "outputs": [
    {
     "data": {
      "text/html": [
       "<div>\n",
       "<style scoped>\n",
       "    .dataframe tbody tr th:only-of-type {\n",
       "        vertical-align: middle;\n",
       "    }\n",
       "\n",
       "    .dataframe tbody tr th {\n",
       "        vertical-align: top;\n",
       "    }\n",
       "\n",
       "    .dataframe thead th {\n",
       "        text-align: right;\n",
       "    }\n",
       "</style>\n",
       "<table border=\"1\" class=\"dataframe\">\n",
       "  <thead>\n",
       "    <tr style=\"text-align: right;\">\n",
       "      <th></th>\n",
       "      <th>Conv</th>\n",
       "      <th>GaphEnhance</th>\n",
       "      <th>Truth</th>\n",
       "      <th>Prediction</th>\n",
       "    </tr>\n",
       "  </thead>\n",
       "  <tbody>\n",
       "    <tr>\n",
       "      <th>23</th>\n",
       "      <td>24</td>\n",
       "      <td>[nick, robinchilds, sara]</td>\n",
       "      <td>[nick, sara, warrick]</td>\n",
       "      <td>[nick, robinchilds, robinchilds]</td>\n",
       "    </tr>\n",
       "    <tr>\n",
       "      <th>28</th>\n",
       "      <td>29</td>\n",
       "      <td>[brass, catherine, warrick]</td>\n",
       "      <td>[brass, catherine, warrick]</td>\n",
       "      <td>[brass, catherine, sgtoriley]</td>\n",
       "    </tr>\n",
       "    <tr>\n",
       "      <th>34</th>\n",
       "      <td>35</td>\n",
       "      <td>[roger, sgtoriley]</td>\n",
       "      <td>[roger, sgtoriley]</td>\n",
       "      <td>[brass, roger]</td>\n",
       "    </tr>\n",
       "  </tbody>\n",
       "</table>\n",
       "</div>"
      ],
      "text/plain": [
       "   Conv                  GaphEnhance                        Truth  \\\n",
       "23   24    [nick, robinchilds, sara]        [nick, sara, warrick]   \n",
       "28   29  [brass, catherine, warrick]  [brass, catherine, warrick]   \n",
       "34   35           [roger, sgtoriley]           [roger, sgtoriley]   \n",
       "\n",
       "                          Prediction  \n",
       "23  [nick, robinchilds, robinchilds]  \n",
       "28     [brass, catherine, sgtoriley]  \n",
       "34                    [brass, roger]  "
      ]
     },
     "execution_count": 16,
     "metadata": {},
     "output_type": "execute_result"
    }
   ],
   "source": [
    "df_res[df_res['GaphEnhance'] != df_res['Prediction']]"
   ]
  },
  {
   "cell_type": "markdown",
   "metadata": {},
   "source": [
    "### Conversation accuracy"
   ]
  },
  {
   "cell_type": "code",
   "execution_count": 17,
   "metadata": {},
   "outputs": [
    {
     "data": {
      "text/plain": [
       "0.7090909090909091"
      ]
     },
     "execution_count": 17,
     "metadata": {},
     "output_type": "execute_result"
    }
   ],
   "source": [
    "conversation_accuracy(df_res, \"Prediction\")"
   ]
  },
  {
   "cell_type": "code",
   "execution_count": 18,
   "metadata": {},
   "outputs": [
    {
     "data": {
      "text/plain": [
       "0.7454545454545455"
      ]
     },
     "execution_count": 18,
     "metadata": {},
     "output_type": "execute_result"
    }
   ],
   "source": [
    "conversation_accuracy(df_res, \"GaphEnhance\")"
   ]
  },
  {
   "cell_type": "markdown",
   "metadata": {},
   "source": [
    "### Speaker accuracy"
   ]
  },
  {
   "cell_type": "code",
   "execution_count": 23,
   "metadata": {},
   "outputs": [
    {
     "data": {
      "text/plain": [
       "0.8617886178861789"
      ]
     },
     "execution_count": 23,
     "metadata": {},
     "output_type": "execute_result"
    }
   ],
   "source": [
    "final_speaker_accuracy(df_res, \"Prediction\")"
   ]
  },
  {
   "cell_type": "code",
   "execution_count": 24,
   "metadata": {},
   "outputs": [
    {
     "data": {
      "text/plain": [
       "0.8861788617886179"
      ]
     },
     "execution_count": 24,
     "metadata": {},
     "output_type": "execute_result"
    }
   ],
   "source": [
    "final_speaker_accuracy(df_res, \"GaphEnhance\")"
   ]
  },
  {
   "cell_type": "markdown",
   "metadata": {},
   "source": [
    "### Final Network"
   ]
  },
  {
   "cell_type": "code",
   "execution_count": 25,
   "metadata": {
    "scrolled": false
   },
   "outputs": [
    {
     "data": {
      "text/html": [
       "\n",
       "        <iframe\n",
       "            width=\"100%\"\n",
       "            height=\"500px\"\n",
       "            src=\"src/generated_graph/s02e06/rerank.html\"\n",
       "            frameborder=\"0\"\n",
       "            allowfullscreen\n",
       "        ></iframe>\n",
       "        "
      ],
      "text/plain": [
       "<IPython.lib.display.IFrame at 0x7feb017a5278>"
      ]
     },
     "execution_count": 25,
     "metadata": {},
     "output_type": "execute_result"
    }
   ],
   "source": [
    "plot_rank = final_graph(G_rank, trace_conv, episode, spk_coord)\n",
    "plot_rank"
   ]
  }
 ],
 "metadata": {
  "kernelspec": {
   "display_name": "Python 3",
   "language": "python",
   "name": "python3"
  },
  "language_info": {
   "codemirror_mode": {
    "name": "ipython",
    "version": 3
   },
   "file_extension": ".py",
   "mimetype": "text/x-python",
   "name": "python",
   "nbconvert_exporter": "python",
   "pygments_lexer": "ipython3",
   "version": "3.7.3"
  }
 },
 "nbformat": 4,
 "nbformat_minor": 2
}
