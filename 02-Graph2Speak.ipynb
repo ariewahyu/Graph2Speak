{
 "cells": [
  {
   "cell_type": "markdown",
   "metadata": {},
   "source": [
    "<center><h1 style=\"font-size:3em\"> Graph2Speak </h1></center>\n",
    "<center><h3> Improving Speaker Identification using Network Knowledge in Criminal Conversational Data </h3><center>"
   ]
  },
  {
   "cell_type": "markdown",
   "metadata": {},
   "source": [
    "Paper: https://arxiv.org/abs/2006.02093\n",
    "\n",
    "*Maël Fabien, Seyyed Saeed Sarfjoo, Petr Motlicek, Srikanth Madikeri*"
   ]
  },
  {
   "cell_type": "code",
   "execution_count": 1,
   "metadata": {},
   "outputs": [],
   "source": [
    "# General\n",
    "import numpy as np\n",
    "import pandas as pd\n",
    "import matplotlib.pyplot as plt\n",
    "\n",
    "# Set of functions\n",
    "from src.utils import *"
   ]
  },
  {
   "cell_type": "code",
   "execution_count": 2,
   "metadata": {},
   "outputs": [],
   "source": [
    "episode = \"s02e09\""
   ]
  },
  {
   "cell_type": "code",
   "execution_count": 3,
   "metadata": {
    "scrolled": true
   },
   "outputs": [
    {
     "data": {
      "text/plain": [
       "({'robbins': '1001_csi',\n",
       "  'officerspencer': '1002_csi',\n",
       "  'greg': '1003_csi',\n",
       "  'bobbydawson': '1004_csi',\n",
       "  'maxduncan': '1005_csi',\n",
       "  'warrick': '1006_csi',\n",
       "  'nick': '1007_csi',\n",
       "  'brass': '1008_csi',\n",
       "  'sara': '1009_csi',\n",
       "  'grissom': '1010_csi',\n",
       "  'catherine': '1011_csi'},\n",
       " {'1001_csi': 'robbins',\n",
       "  '1002_csi': 'officerspencer',\n",
       "  '1003_csi': 'greg',\n",
       "  '1004_csi': 'bobbydawson',\n",
       "  '1005_csi': 'maxduncan',\n",
       "  '1006_csi': 'warrick',\n",
       "  '1007_csi': 'nick',\n",
       "  '1008_csi': 'brass',\n",
       "  '1009_csi': 'sara',\n",
       "  '1010_csi': 'grissom',\n",
       "  '1011_csi': 'catherine'},\n",
       " {'robbins': [50, 50],\n",
       "  'officerspencer': [50, 100],\n",
       "  'greg': [50, 150],\n",
       "  'bobbydawson': [100, 50],\n",
       "  'maxduncan': [100, 100],\n",
       "  'warrick': [100, 150],\n",
       "  'nick': [150, 50],\n",
       "  'brass': [150, 100],\n",
       "  'sara': [150, 150],\n",
       "  'grissom': [200, 50],\n",
       "  'catherine': [200, 100]})"
      ]
     },
     "execution_count": 3,
     "metadata": {},
     "output_type": "execute_result"
    }
   ],
   "source": [
    "dict_spk, spk_dict, spk_coord = ep_dicts(episode)\n",
    "dict_spk, spk_dict, spk_coord"
   ]
  },
  {
   "cell_type": "markdown",
   "metadata": {},
   "source": [
    "# I. Ground truth"
   ]
  },
  {
   "cell_type": "code",
   "execution_count": 4,
   "metadata": {},
   "outputs": [
    {
     "data": {
      "text/html": [
       "<div>\n",
       "<style scoped>\n",
       "    .dataframe tbody tr th:only-of-type {\n",
       "        vertical-align: middle;\n",
       "    }\n",
       "\n",
       "    .dataframe tbody tr th {\n",
       "        vertical-align: top;\n",
       "    }\n",
       "\n",
       "    .dataframe thead th {\n",
       "        text-align: right;\n",
       "    }\n",
       "</style>\n",
       "<table border=\"1\" class=\"dataframe\">\n",
       "  <thead>\n",
       "    <tr style=\"text-align: right;\">\n",
       "      <th></th>\n",
       "      <th>speaker</th>\n",
       "      <th>conv</th>\n",
       "    </tr>\n",
       "  </thead>\n",
       "  <tbody>\n",
       "    <tr>\n",
       "      <th>0</th>\n",
       "      <td>craps_player</td>\n",
       "      <td>0.0</td>\n",
       "    </tr>\n",
       "    <tr>\n",
       "      <th>1</th>\n",
       "      <td>craps_player</td>\n",
       "      <td>0.0</td>\n",
       "    </tr>\n",
       "    <tr>\n",
       "      <th>2</th>\n",
       "      <td>craps_player</td>\n",
       "      <td>0.0</td>\n",
       "    </tr>\n",
       "    <tr>\n",
       "      <th>3</th>\n",
       "      <td>craps_player</td>\n",
       "      <td>0.0</td>\n",
       "    </tr>\n",
       "    <tr>\n",
       "      <th>4</th>\n",
       "      <td>craps_player</td>\n",
       "      <td>0.0</td>\n",
       "    </tr>\n",
       "  </tbody>\n",
       "</table>\n",
       "</div>"
      ],
      "text/plain": [
       "        speaker  conv\n",
       "0  craps_player   0.0\n",
       "1  craps_player   0.0\n",
       "2  craps_player   0.0\n",
       "3  craps_player   0.0\n",
       "4  craps_player   0.0"
      ]
     },
     "execution_count": 4,
     "metadata": {},
     "output_type": "execute_result"
    }
   ],
   "source": [
    "truth_events = pd.read_csv(\"src/graph_input/all_events_%s.csv\"%episode).drop_duplicates().dropna()\n",
    "\n",
    "dict_len = {}\n",
    "for c in np.unique(truth_events['conv']):\n",
    "    dict_len[int(c)] = len(truth_events[truth_events['conv']==c])\n",
    "        \n",
    "truth_events = truth_events[['speaker', 'conv']]\n",
    "truth_events['speaker'] = truth_events['speaker'].apply(lambda x: x.replace(\"/\", \"\").replace(\".\", \"\").replace(\"'\", \"\"))\n",
    "truth_events.head()"
   ]
  },
  {
   "cell_type": "code",
   "execution_count": 5,
   "metadata": {},
   "outputs": [],
   "source": [
    "f = open(\"src/speaker_id_input/%s.txt\"%episode, \"r\")\n",
    "list_spk_keep = []\n",
    "\n",
    "for line in f:\n",
    "    list_spk_keep.append(line.replace(\"\\n\", \"\").replace(\".\", \"\").replace(\"'\", \"\"))"
   ]
  },
  {
   "cell_type": "code",
   "execution_count": 6,
   "metadata": {},
   "outputs": [],
   "source": [
    "truth_events = truth_events[truth_events['speaker'].isin(list_spk_keep)]"
   ]
  },
  {
   "cell_type": "code",
   "execution_count": 7,
   "metadata": {},
   "outputs": [
    {
     "data": {
      "text/html": [
       "\n",
       "        <iframe\n",
       "            width=\"100%\"\n",
       "            height=\"500px\"\n",
       "            src=\"src/generated_graph/s02e09/truth.html\"\n",
       "            frameborder=\"0\"\n",
       "            allowfullscreen\n",
       "        ></iframe>\n",
       "        "
      ],
      "text/plain": [
       "<IPython.lib.display.IFrame at 0x7fc2a3f5e5c0>"
      ]
     },
     "execution_count": 7,
     "metadata": {},
     "output_type": "execute_result"
    }
   ],
   "source": [
    "G, plot = build_graph(truth_events, \"conv\", \"speaker\", \"truth\", episode, spk_coord)\n",
    "plot"
   ]
  },
  {
   "cell_type": "markdown",
   "metadata": {},
   "source": [
    "# II. Speaker ID Prediction"
   ]
  },
  {
   "cell_type": "markdown",
   "metadata": {},
   "source": [
    "Benchmark performance from Kaldi:"
   ]
  },
  {
   "cell_type": "code",
   "execution_count": 8,
   "metadata": {},
   "outputs": [],
   "source": [
    "perf_s01e07 = 0.916\n",
    "perf_s01e08 = 0.919\n",
    "perf_s01e19 = 0.579\n",
    "perf_s01e20 = 0.746\n",
    "perf_s01e23 = 0.686\n",
    "perf_s02e01 = 0.880\n",
    "perf_s02e04 = 0.894\n",
    "perf_s02e06 = 0.855"
   ]
  },
  {
   "cell_type": "markdown",
   "metadata": {},
   "source": [
    "We need 2 dataframes here, a summary of all of the scores of all speaker against each file, and another file of who has the maximum score, corresponding to the prediction of Speaker Id:"
   ]
  },
  {
   "cell_type": "code",
   "execution_count": 9,
   "metadata": {},
   "outputs": [
    {
     "data": {
      "text/html": [
       "<div>\n",
       "<style scoped>\n",
       "    .dataframe tbody tr th:only-of-type {\n",
       "        vertical-align: middle;\n",
       "    }\n",
       "\n",
       "    .dataframe tbody tr th {\n",
       "        vertical-align: top;\n",
       "    }\n",
       "\n",
       "    .dataframe thead th {\n",
       "        text-align: right;\n",
       "    }\n",
       "</style>\n",
       "<table border=\"1\" class=\"dataframe\">\n",
       "  <thead>\n",
       "    <tr style=\"text-align: right;\">\n",
       "      <th></th>\n",
       "      <th>Model</th>\n",
       "      <th>File</th>\n",
       "      <th>Truth</th>\n",
       "      <th>Conv</th>\n",
       "      <th>Score</th>\n",
       "    </tr>\n",
       "  </thead>\n",
       "  <tbody>\n",
       "    <tr>\n",
       "      <th>2</th>\n",
       "      <td>robbins</td>\n",
       "      <td>brass_Conv12</td>\n",
       "      <td>brass</td>\n",
       "      <td>12</td>\n",
       "      <td>-25.868880</td>\n",
       "    </tr>\n",
       "    <tr>\n",
       "      <th>107</th>\n",
       "      <td>officerspencer</td>\n",
       "      <td>brass_Conv12</td>\n",
       "      <td>brass</td>\n",
       "      <td>12</td>\n",
       "      <td>-3.495802</td>\n",
       "    </tr>\n",
       "    <tr>\n",
       "      <th>212</th>\n",
       "      <td>greg</td>\n",
       "      <td>brass_Conv12</td>\n",
       "      <td>brass</td>\n",
       "      <td>12</td>\n",
       "      <td>-28.781910</td>\n",
       "    </tr>\n",
       "    <tr>\n",
       "      <th>317</th>\n",
       "      <td>bobbydawson</td>\n",
       "      <td>brass_Conv12</td>\n",
       "      <td>brass</td>\n",
       "      <td>12</td>\n",
       "      <td>-34.918320</td>\n",
       "    </tr>\n",
       "    <tr>\n",
       "      <th>422</th>\n",
       "      <td>maxduncan</td>\n",
       "      <td>brass_Conv12</td>\n",
       "      <td>brass</td>\n",
       "      <td>12</td>\n",
       "      <td>-24.530490</td>\n",
       "    </tr>\n",
       "  </tbody>\n",
       "</table>\n",
       "</div>"
      ],
      "text/plain": [
       "              Model          File  Truth Conv      Score\n",
       "2           robbins  brass_Conv12  brass   12 -25.868880\n",
       "107  officerspencer  brass_Conv12  brass   12  -3.495802\n",
       "212            greg  brass_Conv12  brass   12 -28.781910\n",
       "317     bobbydawson  brass_Conv12  brass   12 -34.918320\n",
       "422       maxduncan  brass_Conv12  brass   12 -24.530490"
      ]
     },
     "execution_count": 9,
     "metadata": {},
     "output_type": "execute_result"
    }
   ],
   "source": [
    "pred = get_all_pred_scores(\"src/speaker_id_output/scores_%s/csi_test_unique_scores\"%episode, spk_dict)\n",
    "pred.head()"
   ]
  },
  {
   "cell_type": "code",
   "execution_count": 10,
   "metadata": {},
   "outputs": [
    {
     "data": {
      "text/html": [
       "<div>\n",
       "<style scoped>\n",
       "    .dataframe tbody tr th:only-of-type {\n",
       "        vertical-align: middle;\n",
       "    }\n",
       "\n",
       "    .dataframe tbody tr th {\n",
       "        vertical-align: top;\n",
       "    }\n",
       "\n",
       "    .dataframe thead th {\n",
       "        text-align: right;\n",
       "    }\n",
       "</style>\n",
       "<table border=\"1\" class=\"dataframe\">\n",
       "  <thead>\n",
       "    <tr style=\"text-align: right;\">\n",
       "      <th></th>\n",
       "      <th>Pred</th>\n",
       "      <th>Truth</th>\n",
       "      <th>Conv</th>\n",
       "    </tr>\n",
       "  </thead>\n",
       "  <tbody>\n",
       "    <tr>\n",
       "      <th>0</th>\n",
       "      <td>brass</td>\n",
       "      <td>brass</td>\n",
       "      <td>12</td>\n",
       "    </tr>\n",
       "    <tr>\n",
       "      <th>1</th>\n",
       "      <td>brass</td>\n",
       "      <td>brass</td>\n",
       "      <td>13</td>\n",
       "    </tr>\n",
       "    <tr>\n",
       "      <th>2</th>\n",
       "      <td>grissom</td>\n",
       "      <td>grissom</td>\n",
       "      <td>13</td>\n",
       "    </tr>\n",
       "    <tr>\n",
       "      <th>3</th>\n",
       "      <td>nick</td>\n",
       "      <td>nick</td>\n",
       "      <td>14</td>\n",
       "    </tr>\n",
       "    <tr>\n",
       "      <th>4</th>\n",
       "      <td>grissom</td>\n",
       "      <td>grissom</td>\n",
       "      <td>15</td>\n",
       "    </tr>\n",
       "  </tbody>\n",
       "</table>\n",
       "</div>"
      ],
      "text/plain": [
       "      Pred    Truth Conv\n",
       "0    brass    brass   12\n",
       "1    brass    brass   13\n",
       "2  grissom  grissom   13\n",
       "3     nick     nick   14\n",
       "4  grissom  grissom   15"
      ]
     },
     "execution_count": 10,
     "metadata": {},
     "output_type": "execute_result"
    }
   ],
   "source": [
    "winners = get_pred_speakers(pred)\n",
    "winners.head()"
   ]
  },
  {
   "cell_type": "markdown",
   "metadata": {},
   "source": [
    "Re-compute the speaker accuracy:"
   ]
  },
  {
   "cell_type": "code",
   "execution_count": 11,
   "metadata": {},
   "outputs": [
    {
     "data": {
      "text/plain": [
       "0.9142857142857143"
      ]
     },
     "execution_count": 11,
     "metadata": {},
     "output_type": "execute_result"
    }
   ],
   "source": [
    "speaker_accuracy(winners)"
   ]
  },
  {
   "cell_type": "markdown",
   "metadata": {},
   "source": [
    "And plot the predicted network:"
   ]
  },
  {
   "cell_type": "code",
   "execution_count": 12,
   "metadata": {},
   "outputs": [
    {
     "data": {
      "text/html": [
       "\n",
       "        <iframe\n",
       "            width=\"100%\"\n",
       "            height=\"500px\"\n",
       "            src=\"src/generated_graph/s02e09/pred.html\"\n",
       "            frameborder=\"0\"\n",
       "            allowfullscreen\n",
       "        ></iframe>\n",
       "        "
      ],
      "text/plain": [
       "<IPython.lib.display.IFrame at 0x7fc2a3f98518>"
      ]
     },
     "execution_count": 12,
     "metadata": {},
     "output_type": "execute_result"
    }
   ],
   "source": [
    "G_pred, plot_pred = build_graph(winners, \"Conv\", \"Pred\", \"pred\", episode, spk_coord)\n",
    "plot_pred"
   ]
  },
  {
   "cell_type": "markdown",
   "metadata": {},
   "source": [
    "# III. Improving Speaker Identification using Network Knowledge"
   ]
  },
  {
   "cell_type": "markdown",
   "metadata": {},
   "source": [
    "We need 2 datasets again, one to build the list of all candidates, and another one to keep all the candidates from pred above a given threshold:"
   ]
  },
  {
   "cell_type": "code",
   "execution_count": 13,
   "metadata": {},
   "outputs": [
    {
     "data": {
      "text/html": [
       "<div>\n",
       "<style scoped>\n",
       "    .dataframe tbody tr th:only-of-type {\n",
       "        vertical-align: middle;\n",
       "    }\n",
       "\n",
       "    .dataframe tbody tr th {\n",
       "        vertical-align: top;\n",
       "    }\n",
       "\n",
       "    .dataframe thead th {\n",
       "        text-align: right;\n",
       "    }\n",
       "</style>\n",
       "<table border=\"1\" class=\"dataframe\">\n",
       "  <thead>\n",
       "    <tr style=\"text-align: right;\">\n",
       "      <th></th>\n",
       "      <th>Conv</th>\n",
       "      <th>NumChar</th>\n",
       "      <th>Conversation</th>\n",
       "      <th>Truth</th>\n",
       "      <th>Candidate</th>\n",
       "      <th>Score</th>\n",
       "    </tr>\n",
       "  </thead>\n",
       "  <tbody>\n",
       "    <tr>\n",
       "      <th>8</th>\n",
       "      <td>2</td>\n",
       "      <td>2</td>\n",
       "      <td>2_brass</td>\n",
       "      <td>[brass, grissom]</td>\n",
       "      <td>[robbins, officerspencer, greg, maxduncan, war...</td>\n",
       "      <td>[-12.80708, -8.590842, -22.11562, -2.5491, -3....</td>\n",
       "    </tr>\n",
       "    <tr>\n",
       "      <th>29</th>\n",
       "      <td>4</td>\n",
       "      <td>2</td>\n",
       "      <td>4_nick</td>\n",
       "      <td>[nick, warrick]</td>\n",
       "      <td>[robbins, officerspencer, greg, bobbydawson, m...</td>\n",
       "      <td>[-31.71048, -24.56566, -6.259256, -31.78416, 1...</td>\n",
       "    </tr>\n",
       "    <tr>\n",
       "      <th>39</th>\n",
       "      <td>5</td>\n",
       "      <td>2</td>\n",
       "      <td>5_brass</td>\n",
       "      <td>[brass, grissom]</td>\n",
       "      <td>[robbins, officerspencer, greg, bobbydawson, m...</td>\n",
       "      <td>[-15.6182, -12.4353, -18.4734, -24.5174, 10.13...</td>\n",
       "    </tr>\n",
       "    <tr>\n",
       "      <th>41</th>\n",
       "      <td>6</td>\n",
       "      <td>3</td>\n",
       "      <td>6_brass</td>\n",
       "      <td>[brass, grissom, maxduncan]</td>\n",
       "      <td>[robbins, officerspencer, greg, bobbydawson, m...</td>\n",
       "      <td>[-12.02583, -16.58757, -25.1794, -39.18103, -7...</td>\n",
       "    </tr>\n",
       "    <tr>\n",
       "      <th>42</th>\n",
       "      <td>8</td>\n",
       "      <td>3</td>\n",
       "      <td>8_catherine</td>\n",
       "      <td>[catherine, officerspencer, sara]</td>\n",
       "      <td>[sara, catherine, robbins, officerspencer, gre...</td>\n",
       "      <td>[-6.81527, 54.47673, -12.16429, 72.06229, -36....</td>\n",
       "    </tr>\n",
       "  </tbody>\n",
       "</table>\n",
       "</div>"
      ],
      "text/plain": [
       "    Conv  NumChar Conversation                              Truth  \\\n",
       "8      2        2      2_brass                   [brass, grissom]   \n",
       "29     4        2       4_nick                    [nick, warrick]   \n",
       "39     5        2      5_brass                   [brass, grissom]   \n",
       "41     6        3      6_brass        [brass, grissom, maxduncan]   \n",
       "42     8        3  8_catherine  [catherine, officerspencer, sara]   \n",
       "\n",
       "                                            Candidate  \\\n",
       "8   [robbins, officerspencer, greg, maxduncan, war...   \n",
       "29  [robbins, officerspencer, greg, bobbydawson, m...   \n",
       "39  [robbins, officerspencer, greg, bobbydawson, m...   \n",
       "41  [robbins, officerspencer, greg, bobbydawson, m...   \n",
       "42  [sara, catherine, robbins, officerspencer, gre...   \n",
       "\n",
       "                                                Score  \n",
       "8   [-12.80708, -8.590842, -22.11562, -2.5491, -3....  \n",
       "29  [-31.71048, -24.56566, -6.259256, -31.78416, 1...  \n",
       "39  [-15.6182, -12.4353, -18.4734, -24.5174, 10.13...  \n",
       "41  [-12.02583, -16.58757, -25.1794, -39.18103, -7...  \n",
       "42  [-6.81527, 54.47673, -12.16429, 72.06229, -36....  "
      ]
     },
     "execution_count": 13,
     "metadata": {},
     "output_type": "execute_result"
    }
   ],
   "source": [
    "cand = build_candidates(pred)\n",
    "cand.head()"
   ]
  },
  {
   "cell_type": "code",
   "execution_count": 22,
   "metadata": {},
   "outputs": [
    {
     "name": "stderr",
     "output_type": "stream",
     "text": [
      "/Users/maelfabien/Graph2Speak/src/utils.py:683: SettingWithCopyWarning: \n",
      "A value is trying to be set on a copy of a slice from a DataFrame.\n",
      "Try using .loc[row_indexer,col_indexer] = value instead\n",
      "\n",
      "See the caveats in the documentation: https://pandas.pydata.org/pandas-docs/stable/user_guide/indexing.html#returning-a-view-versus-a-copy\n",
      "  score_sup[\"Conv\"] = score_sup[\"Conv\"].astype(int)\n"
     ]
    },
    {
     "data": {
      "text/html": [
       "<div>\n",
       "<style scoped>\n",
       "    .dataframe tbody tr th:only-of-type {\n",
       "        vertical-align: middle;\n",
       "    }\n",
       "\n",
       "    .dataframe tbody tr th {\n",
       "        vertical-align: top;\n",
       "    }\n",
       "\n",
       "    .dataframe thead th {\n",
       "        text-align: right;\n",
       "    }\n",
       "</style>\n",
       "<table border=\"1\" class=\"dataframe\">\n",
       "  <thead>\n",
       "    <tr style=\"text-align: right;\">\n",
       "      <th></th>\n",
       "      <th>Model</th>\n",
       "      <th>File</th>\n",
       "      <th>Truth</th>\n",
       "      <th>Conv</th>\n",
       "      <th>Score</th>\n",
       "    </tr>\n",
       "  </thead>\n",
       "  <tbody>\n",
       "    <tr>\n",
       "      <th>0</th>\n",
       "      <td>robbins</td>\n",
       "      <td>brass_Conv2</td>\n",
       "      <td>brass</td>\n",
       "      <td>2</td>\n",
       "      <td>-12.807080</td>\n",
       "    </tr>\n",
       "    <tr>\n",
       "      <th>1</th>\n",
       "      <td>officerspencer</td>\n",
       "      <td>brass_Conv2</td>\n",
       "      <td>brass</td>\n",
       "      <td>2</td>\n",
       "      <td>-8.590842</td>\n",
       "    </tr>\n",
       "    <tr>\n",
       "      <th>2</th>\n",
       "      <td>greg</td>\n",
       "      <td>brass_Conv2</td>\n",
       "      <td>brass</td>\n",
       "      <td>2</td>\n",
       "      <td>-22.115620</td>\n",
       "    </tr>\n",
       "    <tr>\n",
       "      <th>3</th>\n",
       "      <td>maxduncan</td>\n",
       "      <td>brass_Conv2</td>\n",
       "      <td>brass</td>\n",
       "      <td>2</td>\n",
       "      <td>-2.549100</td>\n",
       "    </tr>\n",
       "    <tr>\n",
       "      <th>4</th>\n",
       "      <td>warrick</td>\n",
       "      <td>brass_Conv2</td>\n",
       "      <td>brass</td>\n",
       "      <td>2</td>\n",
       "      <td>-3.484541</td>\n",
       "    </tr>\n",
       "  </tbody>\n",
       "</table>\n",
       "</div>"
      ],
      "text/plain": [
       "            Model         File  Truth  Conv      Score\n",
       "0         robbins  brass_Conv2  brass     2 -12.807080\n",
       "1  officerspencer  brass_Conv2  brass     2  -8.590842\n",
       "2            greg  brass_Conv2  brass     2 -22.115620\n",
       "3       maxduncan  brass_Conv2  brass     2  -2.549100\n",
       "4         warrick  brass_Conv2  brass     2  -3.484541"
      ]
     },
     "execution_count": 22,
     "metadata": {},
     "output_type": "execute_result"
    }
   ],
   "source": [
    "score_sup = keep_higher_scores(pred, threshold=-25)\n",
    "score_sup.head()"
   ]
  },
  {
   "cell_type": "code",
   "execution_count": 23,
   "metadata": {
    "scrolled": true
   },
   "outputs": [
    {
     "name": "stdout",
     "output_type": "stream",
     "text": [
      "Conversation 2 out of 50\n",
      "Conversation 4 out of 50\n",
      "Conversation 5 out of 50\n",
      "Conversation 6 out of 50\n",
      "Conversation 8 out of 50\n",
      "Conversation 9 out of 50\n",
      "Conversation 12 out of 50\n",
      "Conversation 13 out of 50\n",
      "Conversation 14 out of 50\n",
      "Conversation 15 out of 50\n",
      "Conversation 16 out of 50\n",
      "Conversation 17 out of 50\n",
      "Conversation 18 out of 50\n",
      "Conversation 19 out of 50\n",
      "Conversation 20 out of 50\n",
      "Conversation 21 out of 50\n",
      "Conversation 22 out of 50\n",
      "Conversation 23 out of 50\n",
      "Conversation 24 out of 50\n",
      "Conversation 25 out of 50\n",
      "Conversation 26 out of 50\n",
      "Conversation 27 out of 50\n",
      "Conversation 28 out of 50\n",
      "Conversation 29 out of 50\n",
      "Conversation 30 out of 50\n",
      "Conversation 31 out of 50\n",
      "Conversation 32 out of 50\n",
      "Conversation 33 out of 50\n",
      "Conversation 34 out of 50\n",
      "Conversation 35 out of 50\n",
      "Conversation 36 out of 50\n",
      "Conversation 37 out of 50\n",
      "Conversation 38 out of 50\n",
      "Conversation 39 out of 50\n",
      "Conversation 40 out of 50\n",
      "Conversation 41 out of 50\n",
      "Conversation 42 out of 50\n",
      "Conversation 43 out of 50\n",
      "Conversation 45 out of 50\n",
      "Conversation 46 out of 50\n",
      "Conversation 47 out of 50\n",
      "Conversation 48 out of 50\n",
      "Conversation 49 out of 50\n",
      "Conversation 50 out of 50\n"
     ]
    }
   ],
   "source": [
    "df_res, G_rank, trace_conv = rerank_graph(score_sup, winners, cand, dict_len, threshold=-15)"
   ]
  },
  {
   "cell_type": "markdown",
   "metadata": {},
   "source": [
    "Where are predictions different?"
   ]
  },
  {
   "cell_type": "code",
   "execution_count": 24,
   "metadata": {
    "scrolled": true
   },
   "outputs": [
    {
     "data": {
      "text/html": [
       "<div>\n",
       "<style scoped>\n",
       "    .dataframe tbody tr th:only-of-type {\n",
       "        vertical-align: middle;\n",
       "    }\n",
       "\n",
       "    .dataframe tbody tr th {\n",
       "        vertical-align: top;\n",
       "    }\n",
       "\n",
       "    .dataframe thead th {\n",
       "        text-align: right;\n",
       "    }\n",
       "</style>\n",
       "<table border=\"1\" class=\"dataframe\">\n",
       "  <thead>\n",
       "    <tr style=\"text-align: right;\">\n",
       "      <th></th>\n",
       "      <th>Conv</th>\n",
       "      <th>GaphEnhance</th>\n",
       "      <th>Truth</th>\n",
       "      <th>Prediction</th>\n",
       "    </tr>\n",
       "  </thead>\n",
       "  <tbody>\n",
       "    <tr>\n",
       "      <th>3</th>\n",
       "      <td>6</td>\n",
       "      <td>[brass, brass, grissom]</td>\n",
       "      <td>[brass, grissom, maxduncan]</td>\n",
       "      <td>[brass, grissom, maxduncan]</td>\n",
       "    </tr>\n",
       "    <tr>\n",
       "      <th>22</th>\n",
       "      <td>28</td>\n",
       "      <td>[brass, grissom, nick]</td>\n",
       "      <td>[brass, catherine, grissom, nick]</td>\n",
       "      <td>[brass, catherine, grissom, nick]</td>\n",
       "    </tr>\n",
       "    <tr>\n",
       "      <th>28</th>\n",
       "      <td>34</td>\n",
       "      <td>[greg, grissom, nick, warrick]</td>\n",
       "      <td>[greg, grissom, nick, warrick]</td>\n",
       "      <td>[greg, grissom, maxduncan, warrick]</td>\n",
       "    </tr>\n",
       "    <tr>\n",
       "      <th>30</th>\n",
       "      <td>36</td>\n",
       "      <td>[catherine, catherine, grissom, sara]</td>\n",
       "      <td>[catherine, grissom, nick, sara]</td>\n",
       "      <td>[bobbydawson, catherine, grissom, sara]</td>\n",
       "    </tr>\n",
       "    <tr>\n",
       "      <th>38</th>\n",
       "      <td>45</td>\n",
       "      <td>[]</td>\n",
       "      <td>[catherine]</td>\n",
       "      <td>[sara]</td>\n",
       "    </tr>\n",
       "  </tbody>\n",
       "</table>\n",
       "</div>"
      ],
      "text/plain": [
       "   Conv                            GaphEnhance  \\\n",
       "3     6                [brass, brass, grissom]   \n",
       "22   28                 [brass, grissom, nick]   \n",
       "28   34         [greg, grissom, nick, warrick]   \n",
       "30   36  [catherine, catherine, grissom, sara]   \n",
       "38   45                                     []   \n",
       "\n",
       "                                Truth                               Prediction  \n",
       "3         [brass, grissom, maxduncan]              [brass, grissom, maxduncan]  \n",
       "22  [brass, catherine, grissom, nick]        [brass, catherine, grissom, nick]  \n",
       "28     [greg, grissom, nick, warrick]      [greg, grissom, maxduncan, warrick]  \n",
       "30   [catherine, grissom, nick, sara]  [bobbydawson, catherine, grissom, sara]  \n",
       "38                        [catherine]                                   [sara]  "
      ]
     },
     "execution_count": 24,
     "metadata": {},
     "output_type": "execute_result"
    }
   ],
   "source": [
    "df_res[df_res['GaphEnhance'] != df_res['Prediction']]"
   ]
  },
  {
   "cell_type": "markdown",
   "metadata": {},
   "source": [
    "### Conversation accuracy"
   ]
  },
  {
   "cell_type": "code",
   "execution_count": 25,
   "metadata": {},
   "outputs": [
    {
     "data": {
      "text/plain": [
       "0.7954545454545454"
      ]
     },
     "execution_count": 25,
     "metadata": {},
     "output_type": "execute_result"
    }
   ],
   "source": [
    "conversation_accuracy(df_res, \"Prediction\")"
   ]
  },
  {
   "cell_type": "code",
   "execution_count": 26,
   "metadata": {},
   "outputs": [
    {
     "data": {
      "text/plain": [
       "0.7727272727272727"
      ]
     },
     "execution_count": 26,
     "metadata": {},
     "output_type": "execute_result"
    }
   ],
   "source": [
    "conversation_accuracy(df_res, \"GaphEnhance\")"
   ]
  },
  {
   "cell_type": "markdown",
   "metadata": {},
   "source": [
    "### Speaker accuracy"
   ]
  },
  {
   "cell_type": "code",
   "execution_count": 27,
   "metadata": {},
   "outputs": [
    {
     "data": {
      "text/plain": [
       "0.9142857142857143"
      ]
     },
     "execution_count": 27,
     "metadata": {},
     "output_type": "execute_result"
    }
   ],
   "source": [
    "final_speaker_accuracy(df_res, \"Prediction\")"
   ]
  },
  {
   "cell_type": "code",
   "execution_count": 28,
   "metadata": {},
   "outputs": [
    {
     "data": {
      "text/plain": [
       "0.9047619047619048"
      ]
     },
     "execution_count": 28,
     "metadata": {},
     "output_type": "execute_result"
    }
   ],
   "source": [
    "final_speaker_accuracy(df_res, \"GaphEnhance\")"
   ]
  },
  {
   "cell_type": "markdown",
   "metadata": {},
   "source": [
    "### Final Network"
   ]
  },
  {
   "cell_type": "code",
   "execution_count": 29,
   "metadata": {
    "scrolled": false
   },
   "outputs": [
    {
     "data": {
      "text/html": [
       "\n",
       "        <iframe\n",
       "            width=\"100%\"\n",
       "            height=\"500px\"\n",
       "            src=\"src/generated_graph/s02e09/rerank.html\"\n",
       "            frameborder=\"0\"\n",
       "            allowfullscreen\n",
       "        ></iframe>\n",
       "        "
      ],
      "text/plain": [
       "<IPython.lib.display.IFrame at 0x7fc2a4d4eac8>"
      ]
     },
     "execution_count": 29,
     "metadata": {},
     "output_type": "execute_result"
    }
   ],
   "source": [
    "plot_rank = final_graph(G_rank, trace_conv, episode, spk_coord)\n",
    "plot_rank"
   ]
  },
  {
   "cell_type": "code",
   "execution_count": null,
   "metadata": {},
   "outputs": [],
   "source": []
  }
 ],
 "metadata": {
  "kernelspec": {
   "display_name": "Python 3",
   "language": "python",
   "name": "python3"
  },
  "language_info": {
   "codemirror_mode": {
    "name": "ipython",
    "version": 3
   },
   "file_extension": ".py",
   "mimetype": "text/x-python",
   "name": "python",
   "nbconvert_exporter": "python",
   "pygments_lexer": "ipython3",
   "version": "3.7.3"
  }
 },
 "nbformat": 4,
 "nbformat_minor": 2
}
